{
 "cells": [
  {
   "cell_type": "markdown",
   "metadata": {},
   "source": [
    "# Project: Investigate a Dataset (TMDb_Movies Dataset)\n",
    "\n",
    "## Table of Contents\n",
    "<ul>\n",
    "<li><a href=\"#intro\">Introduction</a></li>\n",
    "<li><a href=\"#wrangling\">Data Wrangling</a></li>\n",
    "<li><a href=\"#eda\">Exploratory Data Analysis</a></li>\n",
    "<li><a href=\"#conclusions\">Conclusions</a></li>\n",
    "</ul>"
   ]
  },
  {
   "cell_type": "markdown",
   "metadata": {},
   "source": [
    "<a id='intro'></a>\n",
    "## Introduction\n",
    "\n",
    "### Dataset Description \n",
    "This data set contains information about 10,000 movies collected from The Movie Database (TMDb), including user ratings and revenue.\n",
    "It consists of 21 columns [id, imdb_id, popularity, budget, revenue , original_title, cast, homepage, director, tagline, keywords, overview, runtime, genres, production_companies, release_date, vote_count, vote_average, release_year, budget_adj, revenue_adj\n",
    "]\n",
    "### Questions for Analysis\n",
    "> 1. What are the movies with largest and lowest profit ?\n",
    "> 2. What are the movies with largest and lowest budgets ?\n",
    "> 3. What are the movies with largest and lowest earned revenu ?\n",
    "> 4. What are the movies with longest and shortest runtime values ?\n",
    "> 5. What are the movies with highest and lowest popularity ?\n",
    "> 6. What are the movies with highest and lowest vote count ?\n",
    "> 7. What are the movies with highest and lowest vote average ?\n",
    "> 8. What is the average of popularity & runtime & vote_count & vote_average & budget & revenue & profit earned of the movies ?\n",
    "> 9. What is the year in which we had most number of profitable movies ?\n",
    "> 10. What are the most common genres of movies ?\n",
    "> 11. What is the most frequent cast ?\n",
    "> 12. What is the most frequant production companies ?\n",
    "> 13. What is the most frequant director ?\n",
    "> 14. Which genres are most popular from year to year ?\n",
    "> 15. What kinds of properties are associated with movies that have high revenues ?\n",
    "\n"
   ]
  },
  {
   "cell_type": "code",
   "execution_count": 81,
   "metadata": {},
   "outputs": [],
   "source": [
    "# Use this cell to set up import statements for all of the packages that you\n",
    "#   plan to use.\n",
    "\n",
    "# Remember to include a 'magic word' so that your visualizations are plotted\n",
    "#   inline with the notebook. See this page for more:\n",
    "#   http://ipython.readthedocs.io/en/stable/interactive/magics.html\n",
    "\n",
    "#importing libraries\n",
    "import numpy as np\n",
    "import pandas as pd\n",
    "import matplotlib.pyplot as plt\n",
    "%matplotlib inline"
   ]
  },
  {
   "cell_type": "markdown",
   "metadata": {},
   "source": [
    "<a id='wrangling'></a>\n",
    "## Data Wrangling\n",
    "\n",
    "After studying the general idea of the dataset and asking questions for the analysis. Now it is time to load, assessing and cleaning the data  \n",
    "### General Properties"
   ]
  },
  {
   "cell_type": "code",
   "execution_count": 82,
   "metadata": {
    "scrolled": false
   },
   "outputs": [
    {
     "data": {
      "text/html": [
       "<div>\n",
       "<style scoped>\n",
       "    .dataframe tbody tr th:only-of-type {\n",
       "        vertical-align: middle;\n",
       "    }\n",
       "\n",
       "    .dataframe tbody tr th {\n",
       "        vertical-align: top;\n",
       "    }\n",
       "\n",
       "    .dataframe thead th {\n",
       "        text-align: right;\n",
       "    }\n",
       "</style>\n",
       "<table border=\"1\" class=\"dataframe\">\n",
       "  <thead>\n",
       "    <tr style=\"text-align: right;\">\n",
       "      <th></th>\n",
       "      <th>id</th>\n",
       "      <th>imdb_id</th>\n",
       "      <th>popularity</th>\n",
       "      <th>budget</th>\n",
       "      <th>revenue</th>\n",
       "      <th>original_title</th>\n",
       "      <th>cast</th>\n",
       "      <th>homepage</th>\n",
       "      <th>director</th>\n",
       "      <th>tagline</th>\n",
       "      <th>...</th>\n",
       "      <th>overview</th>\n",
       "      <th>runtime</th>\n",
       "      <th>genres</th>\n",
       "      <th>production_companies</th>\n",
       "      <th>release_date</th>\n",
       "      <th>vote_count</th>\n",
       "      <th>vote_average</th>\n",
       "      <th>release_year</th>\n",
       "      <th>budget_adj</th>\n",
       "      <th>revenue_adj</th>\n",
       "    </tr>\n",
       "  </thead>\n",
       "  <tbody>\n",
       "    <tr>\n",
       "      <th>0</th>\n",
       "      <td>135397</td>\n",
       "      <td>tt0369610</td>\n",
       "      <td>32.985763</td>\n",
       "      <td>150000000</td>\n",
       "      <td>1513528810</td>\n",
       "      <td>Jurassic World</td>\n",
       "      <td>Chris Pratt|Bryce Dallas Howard|Irrfan Khan|Vi...</td>\n",
       "      <td>http://www.jurassicworld.com/</td>\n",
       "      <td>Colin Trevorrow</td>\n",
       "      <td>The park is open.</td>\n",
       "      <td>...</td>\n",
       "      <td>Twenty-two years after the events of Jurassic ...</td>\n",
       "      <td>124</td>\n",
       "      <td>Action|Adventure|Science Fiction|Thriller</td>\n",
       "      <td>Universal Studios|Amblin Entertainment|Legenda...</td>\n",
       "      <td>6/9/15</td>\n",
       "      <td>5562</td>\n",
       "      <td>6.5</td>\n",
       "      <td>2015</td>\n",
       "      <td>1.379999e+08</td>\n",
       "      <td>1.392446e+09</td>\n",
       "    </tr>\n",
       "    <tr>\n",
       "      <th>1</th>\n",
       "      <td>76341</td>\n",
       "      <td>tt1392190</td>\n",
       "      <td>28.419936</td>\n",
       "      <td>150000000</td>\n",
       "      <td>378436354</td>\n",
       "      <td>Mad Max: Fury Road</td>\n",
       "      <td>Tom Hardy|Charlize Theron|Hugh Keays-Byrne|Nic...</td>\n",
       "      <td>http://www.madmaxmovie.com/</td>\n",
       "      <td>George Miller</td>\n",
       "      <td>What a Lovely Day.</td>\n",
       "      <td>...</td>\n",
       "      <td>An apocalyptic story set in the furthest reach...</td>\n",
       "      <td>120</td>\n",
       "      <td>Action|Adventure|Science Fiction|Thriller</td>\n",
       "      <td>Village Roadshow Pictures|Kennedy Miller Produ...</td>\n",
       "      <td>5/13/15</td>\n",
       "      <td>6185</td>\n",
       "      <td>7.1</td>\n",
       "      <td>2015</td>\n",
       "      <td>1.379999e+08</td>\n",
       "      <td>3.481613e+08</td>\n",
       "    </tr>\n",
       "    <tr>\n",
       "      <th>2</th>\n",
       "      <td>262500</td>\n",
       "      <td>tt2908446</td>\n",
       "      <td>13.112507</td>\n",
       "      <td>110000000</td>\n",
       "      <td>295238201</td>\n",
       "      <td>Insurgent</td>\n",
       "      <td>Shailene Woodley|Theo James|Kate Winslet|Ansel...</td>\n",
       "      <td>http://www.thedivergentseries.movie/#insurgent</td>\n",
       "      <td>Robert Schwentke</td>\n",
       "      <td>One Choice Can Destroy You</td>\n",
       "      <td>...</td>\n",
       "      <td>Beatrice Prior must confront her inner demons ...</td>\n",
       "      <td>119</td>\n",
       "      <td>Adventure|Science Fiction|Thriller</td>\n",
       "      <td>Summit Entertainment|Mandeville Films|Red Wago...</td>\n",
       "      <td>3/18/15</td>\n",
       "      <td>2480</td>\n",
       "      <td>6.3</td>\n",
       "      <td>2015</td>\n",
       "      <td>1.012000e+08</td>\n",
       "      <td>2.716190e+08</td>\n",
       "    </tr>\n",
       "    <tr>\n",
       "      <th>3</th>\n",
       "      <td>140607</td>\n",
       "      <td>tt2488496</td>\n",
       "      <td>11.173104</td>\n",
       "      <td>200000000</td>\n",
       "      <td>2068178225</td>\n",
       "      <td>Star Wars: The Force Awakens</td>\n",
       "      <td>Harrison Ford|Mark Hamill|Carrie Fisher|Adam D...</td>\n",
       "      <td>http://www.starwars.com/films/star-wars-episod...</td>\n",
       "      <td>J.J. Abrams</td>\n",
       "      <td>Every generation has a story.</td>\n",
       "      <td>...</td>\n",
       "      <td>Thirty years after defeating the Galactic Empi...</td>\n",
       "      <td>136</td>\n",
       "      <td>Action|Adventure|Science Fiction|Fantasy</td>\n",
       "      <td>Lucasfilm|Truenorth Productions|Bad Robot</td>\n",
       "      <td>12/15/15</td>\n",
       "      <td>5292</td>\n",
       "      <td>7.5</td>\n",
       "      <td>2015</td>\n",
       "      <td>1.839999e+08</td>\n",
       "      <td>1.902723e+09</td>\n",
       "    </tr>\n",
       "    <tr>\n",
       "      <th>4</th>\n",
       "      <td>168259</td>\n",
       "      <td>tt2820852</td>\n",
       "      <td>9.335014</td>\n",
       "      <td>190000000</td>\n",
       "      <td>1506249360</td>\n",
       "      <td>Furious 7</td>\n",
       "      <td>Vin Diesel|Paul Walker|Jason Statham|Michelle ...</td>\n",
       "      <td>http://www.furious7.com/</td>\n",
       "      <td>James Wan</td>\n",
       "      <td>Vengeance Hits Home</td>\n",
       "      <td>...</td>\n",
       "      <td>Deckard Shaw seeks revenge against Dominic Tor...</td>\n",
       "      <td>137</td>\n",
       "      <td>Action|Crime|Thriller</td>\n",
       "      <td>Universal Pictures|Original Film|Media Rights ...</td>\n",
       "      <td>4/1/15</td>\n",
       "      <td>2947</td>\n",
       "      <td>7.3</td>\n",
       "      <td>2015</td>\n",
       "      <td>1.747999e+08</td>\n",
       "      <td>1.385749e+09</td>\n",
       "    </tr>\n",
       "  </tbody>\n",
       "</table>\n",
       "<p>5 rows × 21 columns</p>\n",
       "</div>"
      ],
      "text/plain": [
       "       id    imdb_id  popularity     budget     revenue  \\\n",
       "0  135397  tt0369610   32.985763  150000000  1513528810   \n",
       "1   76341  tt1392190   28.419936  150000000   378436354   \n",
       "2  262500  tt2908446   13.112507  110000000   295238201   \n",
       "3  140607  tt2488496   11.173104  200000000  2068178225   \n",
       "4  168259  tt2820852    9.335014  190000000  1506249360   \n",
       "\n",
       "                 original_title  \\\n",
       "0                Jurassic World   \n",
       "1            Mad Max: Fury Road   \n",
       "2                     Insurgent   \n",
       "3  Star Wars: The Force Awakens   \n",
       "4                     Furious 7   \n",
       "\n",
       "                                                cast  \\\n",
       "0  Chris Pratt|Bryce Dallas Howard|Irrfan Khan|Vi...   \n",
       "1  Tom Hardy|Charlize Theron|Hugh Keays-Byrne|Nic...   \n",
       "2  Shailene Woodley|Theo James|Kate Winslet|Ansel...   \n",
       "3  Harrison Ford|Mark Hamill|Carrie Fisher|Adam D...   \n",
       "4  Vin Diesel|Paul Walker|Jason Statham|Michelle ...   \n",
       "\n",
       "                                            homepage          director  \\\n",
       "0                      http://www.jurassicworld.com/   Colin Trevorrow   \n",
       "1                        http://www.madmaxmovie.com/     George Miller   \n",
       "2     http://www.thedivergentseries.movie/#insurgent  Robert Schwentke   \n",
       "3  http://www.starwars.com/films/star-wars-episod...       J.J. Abrams   \n",
       "4                           http://www.furious7.com/         James Wan   \n",
       "\n",
       "                         tagline  ...  \\\n",
       "0              The park is open.  ...   \n",
       "1             What a Lovely Day.  ...   \n",
       "2     One Choice Can Destroy You  ...   \n",
       "3  Every generation has a story.  ...   \n",
       "4            Vengeance Hits Home  ...   \n",
       "\n",
       "                                            overview runtime  \\\n",
       "0  Twenty-two years after the events of Jurassic ...     124   \n",
       "1  An apocalyptic story set in the furthest reach...     120   \n",
       "2  Beatrice Prior must confront her inner demons ...     119   \n",
       "3  Thirty years after defeating the Galactic Empi...     136   \n",
       "4  Deckard Shaw seeks revenge against Dominic Tor...     137   \n",
       "\n",
       "                                      genres  \\\n",
       "0  Action|Adventure|Science Fiction|Thriller   \n",
       "1  Action|Adventure|Science Fiction|Thriller   \n",
       "2         Adventure|Science Fiction|Thriller   \n",
       "3   Action|Adventure|Science Fiction|Fantasy   \n",
       "4                      Action|Crime|Thriller   \n",
       "\n",
       "                                production_companies release_date vote_count  \\\n",
       "0  Universal Studios|Amblin Entertainment|Legenda...       6/9/15       5562   \n",
       "1  Village Roadshow Pictures|Kennedy Miller Produ...      5/13/15       6185   \n",
       "2  Summit Entertainment|Mandeville Films|Red Wago...      3/18/15       2480   \n",
       "3          Lucasfilm|Truenorth Productions|Bad Robot     12/15/15       5292   \n",
       "4  Universal Pictures|Original Film|Media Rights ...       4/1/15       2947   \n",
       "\n",
       "   vote_average  release_year    budget_adj   revenue_adj  \n",
       "0           6.5          2015  1.379999e+08  1.392446e+09  \n",
       "1           7.1          2015  1.379999e+08  3.481613e+08  \n",
       "2           6.3          2015  1.012000e+08  2.716190e+08  \n",
       "3           7.5          2015  1.839999e+08  1.902723e+09  \n",
       "4           7.3          2015  1.747999e+08  1.385749e+09  \n",
       "\n",
       "[5 rows x 21 columns]"
      ]
     },
     "execution_count": 82,
     "metadata": {},
     "output_type": "execute_result"
    }
   ],
   "source": [
    "# Load your data and print out a few lines. Perform operations to inspect data\n",
    "#   types and look for instances of missing or possibly errant data.\n",
    "\n",
    "#loading the data by reading the csv file\n",
    "df = pd.read_csv('tmdb-movies.csv')\n",
    "\n",
    "#print out the first five rows\n",
    "df.head()"
   ]
  },
  {
   "cell_type": "markdown",
   "metadata": {},
   "source": [
    "### Data Asessing"
   ]
  },
  {
   "cell_type": "code",
   "execution_count": 83,
   "metadata": {},
   "outputs": [
    {
     "data": {
      "text/plain": [
       "(10866, 21)"
      ]
     },
     "execution_count": 83,
     "metadata": {},
     "output_type": "execute_result"
    }
   ],
   "source": [
    "df.shape"
   ]
  },
  {
   "cell_type": "code",
   "execution_count": 84,
   "metadata": {},
   "outputs": [
    {
     "data": {
      "text/plain": [
       "id                        int64\n",
       "imdb_id                  object\n",
       "popularity              float64\n",
       "budget                    int64\n",
       "revenue                   int64\n",
       "original_title           object\n",
       "cast                     object\n",
       "homepage                 object\n",
       "director                 object\n",
       "tagline                  object\n",
       "keywords                 object\n",
       "overview                 object\n",
       "runtime                   int64\n",
       "genres                   object\n",
       "production_companies     object\n",
       "release_date             object\n",
       "vote_count                int64\n",
       "vote_average            float64\n",
       "release_year              int64\n",
       "budget_adj              float64\n",
       "revenue_adj             float64\n",
       "dtype: object"
      ]
     },
     "execution_count": 84,
     "metadata": {},
     "output_type": "execute_result"
    }
   ],
   "source": [
    "df.dtypes"
   ]
  },
  {
   "cell_type": "code",
   "execution_count": 85,
   "metadata": {
    "scrolled": false
   },
   "outputs": [
    {
     "name": "stdout",
     "output_type": "stream",
     "text": [
      "<class 'pandas.core.frame.DataFrame'>\n",
      "RangeIndex: 10866 entries, 0 to 10865\n",
      "Data columns (total 21 columns):\n",
      " #   Column                Non-Null Count  Dtype  \n",
      "---  ------                --------------  -----  \n",
      " 0   id                    10866 non-null  int64  \n",
      " 1   imdb_id               10856 non-null  object \n",
      " 2   popularity            10866 non-null  float64\n",
      " 3   budget                10866 non-null  int64  \n",
      " 4   revenue               10866 non-null  int64  \n",
      " 5   original_title        10866 non-null  object \n",
      " 6   cast                  10790 non-null  object \n",
      " 7   homepage              2936 non-null   object \n",
      " 8   director              10822 non-null  object \n",
      " 9   tagline               8042 non-null   object \n",
      " 10  keywords              9373 non-null   object \n",
      " 11  overview              10862 non-null  object \n",
      " 12  runtime               10866 non-null  int64  \n",
      " 13  genres                10843 non-null  object \n",
      " 14  production_companies  9836 non-null   object \n",
      " 15  release_date          10866 non-null  object \n",
      " 16  vote_count            10866 non-null  int64  \n",
      " 17  vote_average          10866 non-null  float64\n",
      " 18  release_year          10866 non-null  int64  \n",
      " 19  budget_adj            10866 non-null  float64\n",
      " 20  revenue_adj           10866 non-null  float64\n",
      "dtypes: float64(4), int64(6), object(11)\n",
      "memory usage: 1.7+ MB\n"
     ]
    }
   ],
   "source": [
    "df.info()"
   ]
  },
  {
   "cell_type": "code",
   "execution_count": 86,
   "metadata": {},
   "outputs": [
    {
     "data": {
      "text/html": [
       "<div>\n",
       "<style scoped>\n",
       "    .dataframe tbody tr th:only-of-type {\n",
       "        vertical-align: middle;\n",
       "    }\n",
       "\n",
       "    .dataframe tbody tr th {\n",
       "        vertical-align: top;\n",
       "    }\n",
       "\n",
       "    .dataframe thead th {\n",
       "        text-align: right;\n",
       "    }\n",
       "</style>\n",
       "<table border=\"1\" class=\"dataframe\">\n",
       "  <thead>\n",
       "    <tr style=\"text-align: right;\">\n",
       "      <th></th>\n",
       "      <th>id</th>\n",
       "      <th>popularity</th>\n",
       "      <th>budget</th>\n",
       "      <th>revenue</th>\n",
       "      <th>runtime</th>\n",
       "      <th>vote_count</th>\n",
       "      <th>vote_average</th>\n",
       "      <th>release_year</th>\n",
       "      <th>budget_adj</th>\n",
       "      <th>revenue_adj</th>\n",
       "    </tr>\n",
       "  </thead>\n",
       "  <tbody>\n",
       "    <tr>\n",
       "      <th>count</th>\n",
       "      <td>10866.000000</td>\n",
       "      <td>10866.000000</td>\n",
       "      <td>1.086600e+04</td>\n",
       "      <td>1.086600e+04</td>\n",
       "      <td>10866.000000</td>\n",
       "      <td>10866.000000</td>\n",
       "      <td>10866.000000</td>\n",
       "      <td>10866.000000</td>\n",
       "      <td>1.086600e+04</td>\n",
       "      <td>1.086600e+04</td>\n",
       "    </tr>\n",
       "    <tr>\n",
       "      <th>mean</th>\n",
       "      <td>66064.177434</td>\n",
       "      <td>0.646441</td>\n",
       "      <td>1.462570e+07</td>\n",
       "      <td>3.982332e+07</td>\n",
       "      <td>102.070863</td>\n",
       "      <td>217.389748</td>\n",
       "      <td>5.974922</td>\n",
       "      <td>2001.322658</td>\n",
       "      <td>1.755104e+07</td>\n",
       "      <td>5.136436e+07</td>\n",
       "    </tr>\n",
       "    <tr>\n",
       "      <th>std</th>\n",
       "      <td>92130.136561</td>\n",
       "      <td>1.000185</td>\n",
       "      <td>3.091321e+07</td>\n",
       "      <td>1.170035e+08</td>\n",
       "      <td>31.381405</td>\n",
       "      <td>575.619058</td>\n",
       "      <td>0.935142</td>\n",
       "      <td>12.812941</td>\n",
       "      <td>3.430616e+07</td>\n",
       "      <td>1.446325e+08</td>\n",
       "    </tr>\n",
       "    <tr>\n",
       "      <th>min</th>\n",
       "      <td>5.000000</td>\n",
       "      <td>0.000065</td>\n",
       "      <td>0.000000e+00</td>\n",
       "      <td>0.000000e+00</td>\n",
       "      <td>0.000000</td>\n",
       "      <td>10.000000</td>\n",
       "      <td>1.500000</td>\n",
       "      <td>1960.000000</td>\n",
       "      <td>0.000000e+00</td>\n",
       "      <td>0.000000e+00</td>\n",
       "    </tr>\n",
       "    <tr>\n",
       "      <th>25%</th>\n",
       "      <td>10596.250000</td>\n",
       "      <td>0.207583</td>\n",
       "      <td>0.000000e+00</td>\n",
       "      <td>0.000000e+00</td>\n",
       "      <td>90.000000</td>\n",
       "      <td>17.000000</td>\n",
       "      <td>5.400000</td>\n",
       "      <td>1995.000000</td>\n",
       "      <td>0.000000e+00</td>\n",
       "      <td>0.000000e+00</td>\n",
       "    </tr>\n",
       "    <tr>\n",
       "      <th>50%</th>\n",
       "      <td>20669.000000</td>\n",
       "      <td>0.383856</td>\n",
       "      <td>0.000000e+00</td>\n",
       "      <td>0.000000e+00</td>\n",
       "      <td>99.000000</td>\n",
       "      <td>38.000000</td>\n",
       "      <td>6.000000</td>\n",
       "      <td>2006.000000</td>\n",
       "      <td>0.000000e+00</td>\n",
       "      <td>0.000000e+00</td>\n",
       "    </tr>\n",
       "    <tr>\n",
       "      <th>75%</th>\n",
       "      <td>75610.000000</td>\n",
       "      <td>0.713817</td>\n",
       "      <td>1.500000e+07</td>\n",
       "      <td>2.400000e+07</td>\n",
       "      <td>111.000000</td>\n",
       "      <td>145.750000</td>\n",
       "      <td>6.600000</td>\n",
       "      <td>2011.000000</td>\n",
       "      <td>2.085325e+07</td>\n",
       "      <td>3.369710e+07</td>\n",
       "    </tr>\n",
       "    <tr>\n",
       "      <th>max</th>\n",
       "      <td>417859.000000</td>\n",
       "      <td>32.985763</td>\n",
       "      <td>4.250000e+08</td>\n",
       "      <td>2.781506e+09</td>\n",
       "      <td>900.000000</td>\n",
       "      <td>9767.000000</td>\n",
       "      <td>9.200000</td>\n",
       "      <td>2015.000000</td>\n",
       "      <td>4.250000e+08</td>\n",
       "      <td>2.827124e+09</td>\n",
       "    </tr>\n",
       "  </tbody>\n",
       "</table>\n",
       "</div>"
      ],
      "text/plain": [
       "                  id    popularity        budget       revenue       runtime  \\\n",
       "count   10866.000000  10866.000000  1.086600e+04  1.086600e+04  10866.000000   \n",
       "mean    66064.177434      0.646441  1.462570e+07  3.982332e+07    102.070863   \n",
       "std     92130.136561      1.000185  3.091321e+07  1.170035e+08     31.381405   \n",
       "min         5.000000      0.000065  0.000000e+00  0.000000e+00      0.000000   \n",
       "25%     10596.250000      0.207583  0.000000e+00  0.000000e+00     90.000000   \n",
       "50%     20669.000000      0.383856  0.000000e+00  0.000000e+00     99.000000   \n",
       "75%     75610.000000      0.713817  1.500000e+07  2.400000e+07    111.000000   \n",
       "max    417859.000000     32.985763  4.250000e+08  2.781506e+09    900.000000   \n",
       "\n",
       "         vote_count  vote_average  release_year    budget_adj   revenue_adj  \n",
       "count  10866.000000  10866.000000  10866.000000  1.086600e+04  1.086600e+04  \n",
       "mean     217.389748      5.974922   2001.322658  1.755104e+07  5.136436e+07  \n",
       "std      575.619058      0.935142     12.812941  3.430616e+07  1.446325e+08  \n",
       "min       10.000000      1.500000   1960.000000  0.000000e+00  0.000000e+00  \n",
       "25%       17.000000      5.400000   1995.000000  0.000000e+00  0.000000e+00  \n",
       "50%       38.000000      6.000000   2006.000000  0.000000e+00  0.000000e+00  \n",
       "75%      145.750000      6.600000   2011.000000  2.085325e+07  3.369710e+07  \n",
       "max     9767.000000      9.200000   2015.000000  4.250000e+08  2.827124e+09  "
      ]
     },
     "execution_count": 86,
     "metadata": {},
     "output_type": "execute_result"
    }
   ],
   "source": [
    "df.describe()"
   ]
  },
  {
   "cell_type": "markdown",
   "metadata": {},
   "source": [
    "### Data Cleaning \n",
    "\n",
    "> **Processes we will do to clean the data**\n",
    ">\n",
    "> 1. Removeing some columns that we will not use such as [ 'id', 'imdb_id', 'budget', 'revenue', 'homepage', 'keywords', 'overview'].\n",
    "> 2. Droping the duplicated rows.\n",
    "> 3. Replacing zeros with NAN and droping these values.\n",
    "> 4. Convert the data type of 'release_date' column to 'datetime'."
   ]
  },
  {
   "cell_type": "markdown",
   "metadata": {},
   "source": [
    "> 1. Removeing some columns that we will not use such as [ 'id', 'imdb_id', 'budget', 'revenue', 'homepage', 'keywords', 'overview'].\n"
   ]
  },
  {
   "cell_type": "code",
   "execution_count": 87,
   "metadata": {},
   "outputs": [
    {
     "data": {
      "text/html": [
       "<div>\n",
       "<style scoped>\n",
       "    .dataframe tbody tr th:only-of-type {\n",
       "        vertical-align: middle;\n",
       "    }\n",
       "\n",
       "    .dataframe tbody tr th {\n",
       "        vertical-align: top;\n",
       "    }\n",
       "\n",
       "    .dataframe thead th {\n",
       "        text-align: right;\n",
       "    }\n",
       "</style>\n",
       "<table border=\"1\" class=\"dataframe\">\n",
       "  <thead>\n",
       "    <tr style=\"text-align: right;\">\n",
       "      <th></th>\n",
       "      <th>popularity</th>\n",
       "      <th>original_title</th>\n",
       "      <th>cast</th>\n",
       "      <th>director</th>\n",
       "      <th>tagline</th>\n",
       "      <th>runtime</th>\n",
       "      <th>genres</th>\n",
       "      <th>production_companies</th>\n",
       "      <th>release_date</th>\n",
       "      <th>vote_count</th>\n",
       "      <th>vote_average</th>\n",
       "      <th>release_year</th>\n",
       "      <th>budget_adj</th>\n",
       "      <th>revenue_adj</th>\n",
       "    </tr>\n",
       "  </thead>\n",
       "  <tbody>\n",
       "    <tr>\n",
       "      <th>0</th>\n",
       "      <td>32.985763</td>\n",
       "      <td>Jurassic World</td>\n",
       "      <td>Chris Pratt|Bryce Dallas Howard|Irrfan Khan|Vi...</td>\n",
       "      <td>Colin Trevorrow</td>\n",
       "      <td>The park is open.</td>\n",
       "      <td>124</td>\n",
       "      <td>Action|Adventure|Science Fiction|Thriller</td>\n",
       "      <td>Universal Studios|Amblin Entertainment|Legenda...</td>\n",
       "      <td>6/9/15</td>\n",
       "      <td>5562</td>\n",
       "      <td>6.5</td>\n",
       "      <td>2015</td>\n",
       "      <td>1.379999e+08</td>\n",
       "      <td>1.392446e+09</td>\n",
       "    </tr>\n",
       "    <tr>\n",
       "      <th>1</th>\n",
       "      <td>28.419936</td>\n",
       "      <td>Mad Max: Fury Road</td>\n",
       "      <td>Tom Hardy|Charlize Theron|Hugh Keays-Byrne|Nic...</td>\n",
       "      <td>George Miller</td>\n",
       "      <td>What a Lovely Day.</td>\n",
       "      <td>120</td>\n",
       "      <td>Action|Adventure|Science Fiction|Thriller</td>\n",
       "      <td>Village Roadshow Pictures|Kennedy Miller Produ...</td>\n",
       "      <td>5/13/15</td>\n",
       "      <td>6185</td>\n",
       "      <td>7.1</td>\n",
       "      <td>2015</td>\n",
       "      <td>1.379999e+08</td>\n",
       "      <td>3.481613e+08</td>\n",
       "    </tr>\n",
       "    <tr>\n",
       "      <th>2</th>\n",
       "      <td>13.112507</td>\n",
       "      <td>Insurgent</td>\n",
       "      <td>Shailene Woodley|Theo James|Kate Winslet|Ansel...</td>\n",
       "      <td>Robert Schwentke</td>\n",
       "      <td>One Choice Can Destroy You</td>\n",
       "      <td>119</td>\n",
       "      <td>Adventure|Science Fiction|Thriller</td>\n",
       "      <td>Summit Entertainment|Mandeville Films|Red Wago...</td>\n",
       "      <td>3/18/15</td>\n",
       "      <td>2480</td>\n",
       "      <td>6.3</td>\n",
       "      <td>2015</td>\n",
       "      <td>1.012000e+08</td>\n",
       "      <td>2.716190e+08</td>\n",
       "    </tr>\n",
       "    <tr>\n",
       "      <th>3</th>\n",
       "      <td>11.173104</td>\n",
       "      <td>Star Wars: The Force Awakens</td>\n",
       "      <td>Harrison Ford|Mark Hamill|Carrie Fisher|Adam D...</td>\n",
       "      <td>J.J. Abrams</td>\n",
       "      <td>Every generation has a story.</td>\n",
       "      <td>136</td>\n",
       "      <td>Action|Adventure|Science Fiction|Fantasy</td>\n",
       "      <td>Lucasfilm|Truenorth Productions|Bad Robot</td>\n",
       "      <td>12/15/15</td>\n",
       "      <td>5292</td>\n",
       "      <td>7.5</td>\n",
       "      <td>2015</td>\n",
       "      <td>1.839999e+08</td>\n",
       "      <td>1.902723e+09</td>\n",
       "    </tr>\n",
       "    <tr>\n",
       "      <th>4</th>\n",
       "      <td>9.335014</td>\n",
       "      <td>Furious 7</td>\n",
       "      <td>Vin Diesel|Paul Walker|Jason Statham|Michelle ...</td>\n",
       "      <td>James Wan</td>\n",
       "      <td>Vengeance Hits Home</td>\n",
       "      <td>137</td>\n",
       "      <td>Action|Crime|Thriller</td>\n",
       "      <td>Universal Pictures|Original Film|Media Rights ...</td>\n",
       "      <td>4/1/15</td>\n",
       "      <td>2947</td>\n",
       "      <td>7.3</td>\n",
       "      <td>2015</td>\n",
       "      <td>1.747999e+08</td>\n",
       "      <td>1.385749e+09</td>\n",
       "    </tr>\n",
       "  </tbody>\n",
       "</table>\n",
       "</div>"
      ],
      "text/plain": [
       "   popularity                original_title  \\\n",
       "0   32.985763                Jurassic World   \n",
       "1   28.419936            Mad Max: Fury Road   \n",
       "2   13.112507                     Insurgent   \n",
       "3   11.173104  Star Wars: The Force Awakens   \n",
       "4    9.335014                     Furious 7   \n",
       "\n",
       "                                                cast          director  \\\n",
       "0  Chris Pratt|Bryce Dallas Howard|Irrfan Khan|Vi...   Colin Trevorrow   \n",
       "1  Tom Hardy|Charlize Theron|Hugh Keays-Byrne|Nic...     George Miller   \n",
       "2  Shailene Woodley|Theo James|Kate Winslet|Ansel...  Robert Schwentke   \n",
       "3  Harrison Ford|Mark Hamill|Carrie Fisher|Adam D...       J.J. Abrams   \n",
       "4  Vin Diesel|Paul Walker|Jason Statham|Michelle ...         James Wan   \n",
       "\n",
       "                         tagline  runtime  \\\n",
       "0              The park is open.      124   \n",
       "1             What a Lovely Day.      120   \n",
       "2     One Choice Can Destroy You      119   \n",
       "3  Every generation has a story.      136   \n",
       "4            Vengeance Hits Home      137   \n",
       "\n",
       "                                      genres  \\\n",
       "0  Action|Adventure|Science Fiction|Thriller   \n",
       "1  Action|Adventure|Science Fiction|Thriller   \n",
       "2         Adventure|Science Fiction|Thriller   \n",
       "3   Action|Adventure|Science Fiction|Fantasy   \n",
       "4                      Action|Crime|Thriller   \n",
       "\n",
       "                                production_companies release_date  vote_count  \\\n",
       "0  Universal Studios|Amblin Entertainment|Legenda...       6/9/15        5562   \n",
       "1  Village Roadshow Pictures|Kennedy Miller Produ...      5/13/15        6185   \n",
       "2  Summit Entertainment|Mandeville Films|Red Wago...      3/18/15        2480   \n",
       "3          Lucasfilm|Truenorth Productions|Bad Robot     12/15/15        5292   \n",
       "4  Universal Pictures|Original Film|Media Rights ...       4/1/15        2947   \n",
       "\n",
       "   vote_average  release_year    budget_adj   revenue_adj  \n",
       "0           6.5          2015  1.379999e+08  1.392446e+09  \n",
       "1           7.1          2015  1.379999e+08  3.481613e+08  \n",
       "2           6.3          2015  1.012000e+08  2.716190e+08  \n",
       "3           7.5          2015  1.839999e+08  1.902723e+09  \n",
       "4           7.3          2015  1.747999e+08  1.385749e+09  "
      ]
     },
     "execution_count": 87,
     "metadata": {},
     "output_type": "execute_result"
    }
   ],
   "source": [
    "#deleting the columns\n",
    "df= df.drop([ 'id', 'imdb_id', 'budget', 'revenue', 'homepage', 'keywords', 'overview'],axis=1)\n",
    "\n",
    "# Print out the new dataset\n",
    "df.head()"
   ]
  },
  {
   "cell_type": "markdown",
   "metadata": {},
   "source": [
    "> **2. Droping the duplicated rows.**\n",
    ">"
   ]
  },
  {
   "cell_type": "code",
   "execution_count": 88,
   "metadata": {},
   "outputs": [
    {
     "data": {
      "text/plain": [
       "1"
      ]
     },
     "execution_count": 88,
     "metadata": {},
     "output_type": "execute_result"
    }
   ],
   "source": [
    "# Number of duplicated rows\n",
    "sum(df.duplicated())"
   ]
  },
  {
   "cell_type": "code",
   "execution_count": 89,
   "metadata": {},
   "outputs": [],
   "source": [
    "# Droping the duplicated rows\n",
    "df.drop_duplicates(inplace=True)"
   ]
  },
  {
   "cell_type": "code",
   "execution_count": 90,
   "metadata": {},
   "outputs": [
    {
     "data": {
      "text/plain": [
       "0"
      ]
     },
     "execution_count": 90,
     "metadata": {},
     "output_type": "execute_result"
    }
   ],
   "source": [
    "# Making sure that there is no any duplicated rows\n",
    "sum(df.duplicated())"
   ]
  },
  {
   "cell_type": "markdown",
   "metadata": {},
   "source": [
    ">**3. Replacing zeros with NAN and droping these values.**\n",
    ">\n"
   ]
  },
  {
   "cell_type": "code",
   "execution_count": 91,
   "metadata": {},
   "outputs": [],
   "source": [
    "#replacing zeros with NaN of ['budget_adj', 'revenue_adj]' columns in the dataset\n",
    "df[['budget_adj', 'revenue_adj']] = df[['budget_adj', 'revenue_adj']].replace(0, np.NAN)"
   ]
  },
  {
   "cell_type": "code",
   "execution_count": 92,
   "metadata": {},
   "outputs": [],
   "source": [
    "#Droping all the rows which have NaN values \n",
    "df.dropna(axis = 0, subset = ['budget_adj', 'revenue_adj'] , inplace=True)"
   ]
  },
  {
   "cell_type": "code",
   "execution_count": 93,
   "metadata": {},
   "outputs": [
    {
     "data": {
      "text/plain": [
       "budget_adj     0\n",
       "revenue_adj    0\n",
       "dtype: int64"
      ]
     },
     "execution_count": 93,
     "metadata": {},
     "output_type": "execute_result"
    }
   ],
   "source": [
    "# mske sure that there is no Nan value in temp_list\n",
    "df[['budget_adj', 'revenue_adj']].isnull().sum()"
   ]
  },
  {
   "cell_type": "code",
   "execution_count": 94,
   "metadata": {},
   "outputs": [],
   "source": [
    "#replacing zeros with NaN of 'runtime' column in the dataset\n",
    "df['runtime'] = df['runtime'].replace(0, np.NAN)"
   ]
  },
  {
   "cell_type": "code",
   "execution_count": 95,
   "metadata": {},
   "outputs": [
    {
     "data": {
      "text/html": [
       "<div>\n",
       "<style scoped>\n",
       "    .dataframe tbody tr th:only-of-type {\n",
       "        vertical-align: middle;\n",
       "    }\n",
       "\n",
       "    .dataframe tbody tr th {\n",
       "        vertical-align: top;\n",
       "    }\n",
       "\n",
       "    .dataframe thead th {\n",
       "        text-align: right;\n",
       "    }\n",
       "</style>\n",
       "<table border=\"1\" class=\"dataframe\">\n",
       "  <thead>\n",
       "    <tr style=\"text-align: right;\">\n",
       "      <th></th>\n",
       "      <th>popularity</th>\n",
       "      <th>original_title</th>\n",
       "      <th>cast</th>\n",
       "      <th>director</th>\n",
       "      <th>tagline</th>\n",
       "      <th>runtime</th>\n",
       "      <th>genres</th>\n",
       "      <th>production_companies</th>\n",
       "      <th>release_date</th>\n",
       "      <th>vote_count</th>\n",
       "      <th>vote_average</th>\n",
       "      <th>release_year</th>\n",
       "      <th>budget_adj</th>\n",
       "      <th>revenue_adj</th>\n",
       "    </tr>\n",
       "  </thead>\n",
       "  <tbody>\n",
       "    <tr>\n",
       "      <th>0</th>\n",
       "      <td>32.985763</td>\n",
       "      <td>Jurassic World</td>\n",
       "      <td>Chris Pratt|Bryce Dallas Howard|Irrfan Khan|Vi...</td>\n",
       "      <td>Colin Trevorrow</td>\n",
       "      <td>The park is open.</td>\n",
       "      <td>124</td>\n",
       "      <td>Action|Adventure|Science Fiction|Thriller</td>\n",
       "      <td>Universal Studios|Amblin Entertainment|Legenda...</td>\n",
       "      <td>6/9/15</td>\n",
       "      <td>5562</td>\n",
       "      <td>6.5</td>\n",
       "      <td>2015</td>\n",
       "      <td>1.379999e+08</td>\n",
       "      <td>1.392446e+09</td>\n",
       "    </tr>\n",
       "    <tr>\n",
       "      <th>1</th>\n",
       "      <td>28.419936</td>\n",
       "      <td>Mad Max: Fury Road</td>\n",
       "      <td>Tom Hardy|Charlize Theron|Hugh Keays-Byrne|Nic...</td>\n",
       "      <td>George Miller</td>\n",
       "      <td>What a Lovely Day.</td>\n",
       "      <td>120</td>\n",
       "      <td>Action|Adventure|Science Fiction|Thriller</td>\n",
       "      <td>Village Roadshow Pictures|Kennedy Miller Produ...</td>\n",
       "      <td>5/13/15</td>\n",
       "      <td>6185</td>\n",
       "      <td>7.1</td>\n",
       "      <td>2015</td>\n",
       "      <td>1.379999e+08</td>\n",
       "      <td>3.481613e+08</td>\n",
       "    </tr>\n",
       "    <tr>\n",
       "      <th>2</th>\n",
       "      <td>13.112507</td>\n",
       "      <td>Insurgent</td>\n",
       "      <td>Shailene Woodley|Theo James|Kate Winslet|Ansel...</td>\n",
       "      <td>Robert Schwentke</td>\n",
       "      <td>One Choice Can Destroy You</td>\n",
       "      <td>119</td>\n",
       "      <td>Adventure|Science Fiction|Thriller</td>\n",
       "      <td>Summit Entertainment|Mandeville Films|Red Wago...</td>\n",
       "      <td>3/18/15</td>\n",
       "      <td>2480</td>\n",
       "      <td>6.3</td>\n",
       "      <td>2015</td>\n",
       "      <td>1.012000e+08</td>\n",
       "      <td>2.716190e+08</td>\n",
       "    </tr>\n",
       "    <tr>\n",
       "      <th>3</th>\n",
       "      <td>11.173104</td>\n",
       "      <td>Star Wars: The Force Awakens</td>\n",
       "      <td>Harrison Ford|Mark Hamill|Carrie Fisher|Adam D...</td>\n",
       "      <td>J.J. Abrams</td>\n",
       "      <td>Every generation has a story.</td>\n",
       "      <td>136</td>\n",
       "      <td>Action|Adventure|Science Fiction|Fantasy</td>\n",
       "      <td>Lucasfilm|Truenorth Productions|Bad Robot</td>\n",
       "      <td>12/15/15</td>\n",
       "      <td>5292</td>\n",
       "      <td>7.5</td>\n",
       "      <td>2015</td>\n",
       "      <td>1.839999e+08</td>\n",
       "      <td>1.902723e+09</td>\n",
       "    </tr>\n",
       "    <tr>\n",
       "      <th>4</th>\n",
       "      <td>9.335014</td>\n",
       "      <td>Furious 7</td>\n",
       "      <td>Vin Diesel|Paul Walker|Jason Statham|Michelle ...</td>\n",
       "      <td>James Wan</td>\n",
       "      <td>Vengeance Hits Home</td>\n",
       "      <td>137</td>\n",
       "      <td>Action|Crime|Thriller</td>\n",
       "      <td>Universal Pictures|Original Film|Media Rights ...</td>\n",
       "      <td>4/1/15</td>\n",
       "      <td>2947</td>\n",
       "      <td>7.3</td>\n",
       "      <td>2015</td>\n",
       "      <td>1.747999e+08</td>\n",
       "      <td>1.385749e+09</td>\n",
       "    </tr>\n",
       "  </tbody>\n",
       "</table>\n",
       "</div>"
      ],
      "text/plain": [
       "   popularity                original_title  \\\n",
       "0   32.985763                Jurassic World   \n",
       "1   28.419936            Mad Max: Fury Road   \n",
       "2   13.112507                     Insurgent   \n",
       "3   11.173104  Star Wars: The Force Awakens   \n",
       "4    9.335014                     Furious 7   \n",
       "\n",
       "                                                cast          director  \\\n",
       "0  Chris Pratt|Bryce Dallas Howard|Irrfan Khan|Vi...   Colin Trevorrow   \n",
       "1  Tom Hardy|Charlize Theron|Hugh Keays-Byrne|Nic...     George Miller   \n",
       "2  Shailene Woodley|Theo James|Kate Winslet|Ansel...  Robert Schwentke   \n",
       "3  Harrison Ford|Mark Hamill|Carrie Fisher|Adam D...       J.J. Abrams   \n",
       "4  Vin Diesel|Paul Walker|Jason Statham|Michelle ...         James Wan   \n",
       "\n",
       "                         tagline  runtime  \\\n",
       "0              The park is open.      124   \n",
       "1             What a Lovely Day.      120   \n",
       "2     One Choice Can Destroy You      119   \n",
       "3  Every generation has a story.      136   \n",
       "4            Vengeance Hits Home      137   \n",
       "\n",
       "                                      genres  \\\n",
       "0  Action|Adventure|Science Fiction|Thriller   \n",
       "1  Action|Adventure|Science Fiction|Thriller   \n",
       "2         Adventure|Science Fiction|Thriller   \n",
       "3   Action|Adventure|Science Fiction|Fantasy   \n",
       "4                      Action|Crime|Thriller   \n",
       "\n",
       "                                production_companies release_date  vote_count  \\\n",
       "0  Universal Studios|Amblin Entertainment|Legenda...       6/9/15        5562   \n",
       "1  Village Roadshow Pictures|Kennedy Miller Produ...      5/13/15        6185   \n",
       "2  Summit Entertainment|Mandeville Films|Red Wago...      3/18/15        2480   \n",
       "3          Lucasfilm|Truenorth Productions|Bad Robot     12/15/15        5292   \n",
       "4  Universal Pictures|Original Film|Media Rights ...       4/1/15        2947   \n",
       "\n",
       "   vote_average  release_year    budget_adj   revenue_adj  \n",
       "0           6.5          2015  1.379999e+08  1.392446e+09  \n",
       "1           7.1          2015  1.379999e+08  3.481613e+08  \n",
       "2           6.3          2015  1.012000e+08  2.716190e+08  \n",
       "3           7.5          2015  1.839999e+08  1.902723e+09  \n",
       "4           7.3          2015  1.747999e+08  1.385749e+09  "
      ]
     },
     "execution_count": 95,
     "metadata": {},
     "output_type": "execute_result"
    }
   ],
   "source": [
    "# print out the changed dataset\n",
    "df.head()"
   ]
  },
  {
   "cell_type": "markdown",
   "metadata": {},
   "source": [
    "> **4. Convert the data type of 'release_date' column to 'datetime'.**"
   ]
  },
  {
   "cell_type": "code",
   "execution_count": 96,
   "metadata": {},
   "outputs": [],
   "source": [
    "# convert the dtype of 'release_date' column to 'datetime'\n",
    "df.release_date = pd.to_datetime(df['release_date'])"
   ]
  },
  {
   "cell_type": "code",
   "execution_count": 97,
   "metadata": {},
   "outputs": [
    {
     "data": {
      "text/plain": [
       "popularity                     float64\n",
       "original_title                  object\n",
       "cast                            object\n",
       "director                        object\n",
       "tagline                         object\n",
       "runtime                          int64\n",
       "genres                          object\n",
       "production_companies            object\n",
       "release_date            datetime64[ns]\n",
       "vote_count                       int64\n",
       "vote_average                   float64\n",
       "release_year                     int64\n",
       "budget_adj                     float64\n",
       "revenue_adj                    float64\n",
       "dtype: object"
      ]
     },
     "execution_count": 97,
     "metadata": {},
     "output_type": "execute_result"
    }
   ],
   "source": [
    "# make sure that dtype of 'release_date' column become 'datetime' \n",
    "df.dtypes"
   ]
  },
  {
   "cell_type": "markdown",
   "metadata": {},
   "source": [
    "<a id='eda'></a>\n",
    "## Exploratory Data Analysis"
   ]
  },
  {
   "cell_type": "markdown",
   "metadata": {},
   "source": [
    "> **1. Calculating the profit of the each movie**"
   ]
  },
  {
   "cell_type": "code",
   "execution_count": 98,
   "metadata": {},
   "outputs": [
    {
     "data": {
      "text/html": [
       "<div>\n",
       "<style scoped>\n",
       "    .dataframe tbody tr th:only-of-type {\n",
       "        vertical-align: middle;\n",
       "    }\n",
       "\n",
       "    .dataframe tbody tr th {\n",
       "        vertical-align: top;\n",
       "    }\n",
       "\n",
       "    .dataframe thead th {\n",
       "        text-align: right;\n",
       "    }\n",
       "</style>\n",
       "<table border=\"1\" class=\"dataframe\">\n",
       "  <thead>\n",
       "    <tr style=\"text-align: right;\">\n",
       "      <th></th>\n",
       "      <th>popularity</th>\n",
       "      <th>original_title</th>\n",
       "      <th>cast</th>\n",
       "      <th>director</th>\n",
       "      <th>tagline</th>\n",
       "      <th>runtime</th>\n",
       "      <th>genres</th>\n",
       "      <th>production_companies</th>\n",
       "      <th>release_date</th>\n",
       "      <th>vote_count</th>\n",
       "      <th>vote_average</th>\n",
       "      <th>release_year</th>\n",
       "      <th>budget_adj</th>\n",
       "      <th>revenue_adj</th>\n",
       "      <th>profit_earned</th>\n",
       "    </tr>\n",
       "  </thead>\n",
       "  <tbody>\n",
       "    <tr>\n",
       "      <th>0</th>\n",
       "      <td>32.985763</td>\n",
       "      <td>Jurassic World</td>\n",
       "      <td>Chris Pratt|Bryce Dallas Howard|Irrfan Khan|Vi...</td>\n",
       "      <td>Colin Trevorrow</td>\n",
       "      <td>The park is open.</td>\n",
       "      <td>124</td>\n",
       "      <td>Action|Adventure|Science Fiction|Thriller</td>\n",
       "      <td>Universal Studios|Amblin Entertainment|Legenda...</td>\n",
       "      <td>2015-06-09</td>\n",
       "      <td>5562</td>\n",
       "      <td>6.5</td>\n",
       "      <td>2015</td>\n",
       "      <td>1.379999e+08</td>\n",
       "      <td>1.392446e+09</td>\n",
       "      <td>1.254446e+09</td>\n",
       "    </tr>\n",
       "    <tr>\n",
       "      <th>1</th>\n",
       "      <td>28.419936</td>\n",
       "      <td>Mad Max: Fury Road</td>\n",
       "      <td>Tom Hardy|Charlize Theron|Hugh Keays-Byrne|Nic...</td>\n",
       "      <td>George Miller</td>\n",
       "      <td>What a Lovely Day.</td>\n",
       "      <td>120</td>\n",
       "      <td>Action|Adventure|Science Fiction|Thriller</td>\n",
       "      <td>Village Roadshow Pictures|Kennedy Miller Produ...</td>\n",
       "      <td>2015-05-13</td>\n",
       "      <td>6185</td>\n",
       "      <td>7.1</td>\n",
       "      <td>2015</td>\n",
       "      <td>1.379999e+08</td>\n",
       "      <td>3.481613e+08</td>\n",
       "      <td>2.101614e+08</td>\n",
       "    </tr>\n",
       "    <tr>\n",
       "      <th>2</th>\n",
       "      <td>13.112507</td>\n",
       "      <td>Insurgent</td>\n",
       "      <td>Shailene Woodley|Theo James|Kate Winslet|Ansel...</td>\n",
       "      <td>Robert Schwentke</td>\n",
       "      <td>One Choice Can Destroy You</td>\n",
       "      <td>119</td>\n",
       "      <td>Adventure|Science Fiction|Thriller</td>\n",
       "      <td>Summit Entertainment|Mandeville Films|Red Wago...</td>\n",
       "      <td>2015-03-18</td>\n",
       "      <td>2480</td>\n",
       "      <td>6.3</td>\n",
       "      <td>2015</td>\n",
       "      <td>1.012000e+08</td>\n",
       "      <td>2.716190e+08</td>\n",
       "      <td>1.704191e+08</td>\n",
       "    </tr>\n",
       "    <tr>\n",
       "      <th>3</th>\n",
       "      <td>11.173104</td>\n",
       "      <td>Star Wars: The Force Awakens</td>\n",
       "      <td>Harrison Ford|Mark Hamill|Carrie Fisher|Adam D...</td>\n",
       "      <td>J.J. Abrams</td>\n",
       "      <td>Every generation has a story.</td>\n",
       "      <td>136</td>\n",
       "      <td>Action|Adventure|Science Fiction|Fantasy</td>\n",
       "      <td>Lucasfilm|Truenorth Productions|Bad Robot</td>\n",
       "      <td>2015-12-15</td>\n",
       "      <td>5292</td>\n",
       "      <td>7.5</td>\n",
       "      <td>2015</td>\n",
       "      <td>1.839999e+08</td>\n",
       "      <td>1.902723e+09</td>\n",
       "      <td>1.718723e+09</td>\n",
       "    </tr>\n",
       "    <tr>\n",
       "      <th>4</th>\n",
       "      <td>9.335014</td>\n",
       "      <td>Furious 7</td>\n",
       "      <td>Vin Diesel|Paul Walker|Jason Statham|Michelle ...</td>\n",
       "      <td>James Wan</td>\n",
       "      <td>Vengeance Hits Home</td>\n",
       "      <td>137</td>\n",
       "      <td>Action|Crime|Thriller</td>\n",
       "      <td>Universal Pictures|Original Film|Media Rights ...</td>\n",
       "      <td>2015-04-01</td>\n",
       "      <td>2947</td>\n",
       "      <td>7.3</td>\n",
       "      <td>2015</td>\n",
       "      <td>1.747999e+08</td>\n",
       "      <td>1.385749e+09</td>\n",
       "      <td>1.210949e+09</td>\n",
       "    </tr>\n",
       "  </tbody>\n",
       "</table>\n",
       "</div>"
      ],
      "text/plain": [
       "   popularity                original_title  \\\n",
       "0   32.985763                Jurassic World   \n",
       "1   28.419936            Mad Max: Fury Road   \n",
       "2   13.112507                     Insurgent   \n",
       "3   11.173104  Star Wars: The Force Awakens   \n",
       "4    9.335014                     Furious 7   \n",
       "\n",
       "                                                cast          director  \\\n",
       "0  Chris Pratt|Bryce Dallas Howard|Irrfan Khan|Vi...   Colin Trevorrow   \n",
       "1  Tom Hardy|Charlize Theron|Hugh Keays-Byrne|Nic...     George Miller   \n",
       "2  Shailene Woodley|Theo James|Kate Winslet|Ansel...  Robert Schwentke   \n",
       "3  Harrison Ford|Mark Hamill|Carrie Fisher|Adam D...       J.J. Abrams   \n",
       "4  Vin Diesel|Paul Walker|Jason Statham|Michelle ...         James Wan   \n",
       "\n",
       "                         tagline  runtime  \\\n",
       "0              The park is open.      124   \n",
       "1             What a Lovely Day.      120   \n",
       "2     One Choice Can Destroy You      119   \n",
       "3  Every generation has a story.      136   \n",
       "4            Vengeance Hits Home      137   \n",
       "\n",
       "                                      genres  \\\n",
       "0  Action|Adventure|Science Fiction|Thriller   \n",
       "1  Action|Adventure|Science Fiction|Thriller   \n",
       "2         Adventure|Science Fiction|Thriller   \n",
       "3   Action|Adventure|Science Fiction|Fantasy   \n",
       "4                      Action|Crime|Thriller   \n",
       "\n",
       "                                production_companies release_date  vote_count  \\\n",
       "0  Universal Studios|Amblin Entertainment|Legenda...   2015-06-09        5562   \n",
       "1  Village Roadshow Pictures|Kennedy Miller Produ...   2015-05-13        6185   \n",
       "2  Summit Entertainment|Mandeville Films|Red Wago...   2015-03-18        2480   \n",
       "3          Lucasfilm|Truenorth Productions|Bad Robot   2015-12-15        5292   \n",
       "4  Universal Pictures|Original Film|Media Rights ...   2015-04-01        2947   \n",
       "\n",
       "   vote_average  release_year    budget_adj   revenue_adj  profit_earned  \n",
       "0           6.5          2015  1.379999e+08  1.392446e+09   1.254446e+09  \n",
       "1           7.1          2015  1.379999e+08  3.481613e+08   2.101614e+08  \n",
       "2           6.3          2015  1.012000e+08  2.716190e+08   1.704191e+08  \n",
       "3           7.5          2015  1.839999e+08  1.902723e+09   1.718723e+09  \n",
       "4           7.3          2015  1.747999e+08  1.385749e+09   1.210949e+09  "
      ]
     },
     "execution_count": 98,
     "metadata": {},
     "output_type": "execute_result"
    }
   ],
   "source": [
    "# creat a new column 'profit_earned' that have the profit of each movie\n",
    "df.insert(14,'profit_earned',df['revenue_adj']-df['budget_adj'])\n",
    "\n",
    "#previewing the changes in the dataset\n",
    "df.head()"
   ]
  },
  {
   "cell_type": "markdown",
   "metadata": {},
   "source": [
    "### Research Question 1 : What are the movies with largest and lowest profit ?"
   ]
  },
  {
   "cell_type": "code",
   "execution_count": 99,
   "metadata": {},
   "outputs": [
    {
     "data": {
      "text/html": [
       "<div>\n",
       "<style scoped>\n",
       "    .dataframe tbody tr th:only-of-type {\n",
       "        vertical-align: middle;\n",
       "    }\n",
       "\n",
       "    .dataframe tbody tr th {\n",
       "        vertical-align: top;\n",
       "    }\n",
       "\n",
       "    .dataframe thead th {\n",
       "        text-align: right;\n",
       "    }\n",
       "</style>\n",
       "<table border=\"1\" class=\"dataframe\">\n",
       "  <thead>\n",
       "    <tr style=\"text-align: right;\">\n",
       "      <th></th>\n",
       "      <th>1329</th>\n",
       "      <th>2244</th>\n",
       "    </tr>\n",
       "  </thead>\n",
       "  <tbody>\n",
       "    <tr>\n",
       "      <th>popularity</th>\n",
       "      <td>12.037933</td>\n",
       "      <td>0.25054</td>\n",
       "    </tr>\n",
       "    <tr>\n",
       "      <th>original_title</th>\n",
       "      <td>Star Wars</td>\n",
       "      <td>The Warrior's Way</td>\n",
       "    </tr>\n",
       "    <tr>\n",
       "      <th>cast</th>\n",
       "      <td>Mark Hamill|Harrison Ford|Carrie Fisher|Peter ...</td>\n",
       "      <td>Kate Bosworth|Jang Dong-gun|Geoffrey Rush|Dann...</td>\n",
       "    </tr>\n",
       "    <tr>\n",
       "      <th>director</th>\n",
       "      <td>George Lucas</td>\n",
       "      <td>Sngmoo Lee</td>\n",
       "    </tr>\n",
       "    <tr>\n",
       "      <th>tagline</th>\n",
       "      <td>A long time ago in a galaxy far, far away...</td>\n",
       "      <td>Assassin. Hero. Legend.</td>\n",
       "    </tr>\n",
       "    <tr>\n",
       "      <th>runtime</th>\n",
       "      <td>121</td>\n",
       "      <td>100</td>\n",
       "    </tr>\n",
       "    <tr>\n",
       "      <th>genres</th>\n",
       "      <td>Adventure|Action|Science Fiction</td>\n",
       "      <td>Adventure|Fantasy|Action|Western|Thriller</td>\n",
       "    </tr>\n",
       "    <tr>\n",
       "      <th>production_companies</th>\n",
       "      <td>Lucasfilm|Twentieth Century Fox Film Corporation</td>\n",
       "      <td>Boram Entertainment Inc.</td>\n",
       "    </tr>\n",
       "    <tr>\n",
       "      <th>release_date</th>\n",
       "      <td>1977-03-20 00:00:00</td>\n",
       "      <td>2010-12-02 00:00:00</td>\n",
       "    </tr>\n",
       "    <tr>\n",
       "      <th>vote_count</th>\n",
       "      <td>4428</td>\n",
       "      <td>74</td>\n",
       "    </tr>\n",
       "    <tr>\n",
       "      <th>vote_average</th>\n",
       "      <td>7.9</td>\n",
       "      <td>6.4</td>\n",
       "    </tr>\n",
       "    <tr>\n",
       "      <th>release_year</th>\n",
       "      <td>1977</td>\n",
       "      <td>2010</td>\n",
       "    </tr>\n",
       "    <tr>\n",
       "      <th>budget_adj</th>\n",
       "      <td>39575591.358274</td>\n",
       "      <td>425000000.0</td>\n",
       "    </tr>\n",
       "    <tr>\n",
       "      <th>revenue_adj</th>\n",
       "      <td>2789712242.27745</td>\n",
       "      <td>11087569.0</td>\n",
       "    </tr>\n",
       "    <tr>\n",
       "      <th>profit_earned</th>\n",
       "      <td>2750136650.919176</td>\n",
       "      <td>-413912431.0</td>\n",
       "    </tr>\n",
       "  </tbody>\n",
       "</table>\n",
       "</div>"
      ],
      "text/plain": [
       "                                                                   1329  \\\n",
       "popularity                                                    12.037933   \n",
       "original_title                                                Star Wars   \n",
       "cast                  Mark Hamill|Harrison Ford|Carrie Fisher|Peter ...   \n",
       "director                                                   George Lucas   \n",
       "tagline                    A long time ago in a galaxy far, far away...   \n",
       "runtime                                                             121   \n",
       "genres                                 Adventure|Action|Science Fiction   \n",
       "production_companies   Lucasfilm|Twentieth Century Fox Film Corporation   \n",
       "release_date                                        1977-03-20 00:00:00   \n",
       "vote_count                                                         4428   \n",
       "vote_average                                                        7.9   \n",
       "release_year                                                       1977   \n",
       "budget_adj                                              39575591.358274   \n",
       "revenue_adj                                            2789712242.27745   \n",
       "profit_earned                                         2750136650.919176   \n",
       "\n",
       "                                                                   2244  \n",
       "popularity                                                      0.25054  \n",
       "original_title                                        The Warrior's Way  \n",
       "cast                  Kate Bosworth|Jang Dong-gun|Geoffrey Rush|Dann...  \n",
       "director                                                     Sngmoo Lee  \n",
       "tagline                                         Assassin. Hero. Legend.  \n",
       "runtime                                                             100  \n",
       "genres                        Adventure|Fantasy|Action|Western|Thriller  \n",
       "production_companies                           Boram Entertainment Inc.  \n",
       "release_date                                        2010-12-02 00:00:00  \n",
       "vote_count                                                           74  \n",
       "vote_average                                                        6.4  \n",
       "release_year                                                       2010  \n",
       "budget_adj                                                  425000000.0  \n",
       "revenue_adj                                                  11087569.0  \n",
       "profit_earned                                              -413912431.0  "
      ]
     },
     "execution_count": 99,
     "metadata": {},
     "output_type": "execute_result"
    }
   ],
   "source": [
    "#for largest earned profit\n",
    "high= df['profit_earned'].idxmax()\n",
    "high_info=pd.DataFrame(df.loc[high])\n",
    "    \n",
    "#for lowest earned profit\n",
    "low= df['profit_earned'].idxmin()\n",
    "low_info=pd.DataFrame(df.loc[low])\n",
    "    \n",
    "#concatenating data\n",
    "info=pd.concat([high_info, low_info], axis=1)\n",
    "info"
   ]
  },
  {
   "cell_type": "markdown",
   "metadata": {},
   "source": [
    "> 'Star Wars' movie is the movie with the highest earned profit with '2,750,136,650.919176'.\n",
    "\n",
    "> 'The Warrior's Way' movie is the movie with the lowest earned profit with '-413,912,431.0'."
   ]
  },
  {
   "cell_type": "markdown",
   "metadata": {},
   "source": [
    "### Research Question 2  : What are the movies with largest and lowest budgets ?"
   ]
  },
  {
   "cell_type": "code",
   "execution_count": 100,
   "metadata": {
    "scrolled": true
   },
   "outputs": [
    {
     "data": {
      "text/html": [
       "<div>\n",
       "<style scoped>\n",
       "    .dataframe tbody tr th:only-of-type {\n",
       "        vertical-align: middle;\n",
       "    }\n",
       "\n",
       "    .dataframe tbody tr th {\n",
       "        vertical-align: top;\n",
       "    }\n",
       "\n",
       "    .dataframe thead th {\n",
       "        text-align: right;\n",
       "    }\n",
       "</style>\n",
       "<table border=\"1\" class=\"dataframe\">\n",
       "  <thead>\n",
       "    <tr style=\"text-align: right;\">\n",
       "      <th></th>\n",
       "      <th>2244</th>\n",
       "      <th>3581</th>\n",
       "    </tr>\n",
       "  </thead>\n",
       "  <tbody>\n",
       "    <tr>\n",
       "      <th>popularity</th>\n",
       "      <td>0.25054</td>\n",
       "      <td>0.52043</td>\n",
       "    </tr>\n",
       "    <tr>\n",
       "      <th>original_title</th>\n",
       "      <td>The Warrior's Way</td>\n",
       "      <td>Love, Wedding, Marriage</td>\n",
       "    </tr>\n",
       "    <tr>\n",
       "      <th>cast</th>\n",
       "      <td>Kate Bosworth|Jang Dong-gun|Geoffrey Rush|Dann...</td>\n",
       "      <td>Mandy Moore|Kellan Lutz|Jessica Szohr|Autumn F...</td>\n",
       "    </tr>\n",
       "    <tr>\n",
       "      <th>director</th>\n",
       "      <td>Sngmoo Lee</td>\n",
       "      <td>Dermot Mulroney</td>\n",
       "    </tr>\n",
       "    <tr>\n",
       "      <th>tagline</th>\n",
       "      <td>Assassin. Hero. Legend.</td>\n",
       "      <td>Here comes the ride.</td>\n",
       "    </tr>\n",
       "    <tr>\n",
       "      <th>runtime</th>\n",
       "      <td>100</td>\n",
       "      <td>90</td>\n",
       "    </tr>\n",
       "    <tr>\n",
       "      <th>genres</th>\n",
       "      <td>Adventure|Fantasy|Action|Western|Thriller</td>\n",
       "      <td>Comedy|Romance</td>\n",
       "    </tr>\n",
       "    <tr>\n",
       "      <th>production_companies</th>\n",
       "      <td>Boram Entertainment Inc.</td>\n",
       "      <td>120dB Films|Scion Films|Voodoo Production Serv...</td>\n",
       "    </tr>\n",
       "    <tr>\n",
       "      <th>release_date</th>\n",
       "      <td>2010-12-02 00:00:00</td>\n",
       "      <td>2011-06-03 00:00:00</td>\n",
       "    </tr>\n",
       "    <tr>\n",
       "      <th>vote_count</th>\n",
       "      <td>74</td>\n",
       "      <td>55</td>\n",
       "    </tr>\n",
       "    <tr>\n",
       "      <th>vote_average</th>\n",
       "      <td>6.4</td>\n",
       "      <td>5.3</td>\n",
       "    </tr>\n",
       "    <tr>\n",
       "      <th>release_year</th>\n",
       "      <td>2010</td>\n",
       "      <td>2011</td>\n",
       "    </tr>\n",
       "    <tr>\n",
       "      <th>budget_adj</th>\n",
       "      <td>425000000.0</td>\n",
       "      <td>0.969398</td>\n",
       "    </tr>\n",
       "    <tr>\n",
       "      <th>revenue_adj</th>\n",
       "      <td>11087569.0</td>\n",
       "      <td>1335.830503</td>\n",
       "    </tr>\n",
       "    <tr>\n",
       "      <th>profit_earned</th>\n",
       "      <td>-413912431.0</td>\n",
       "      <td>1334.861105</td>\n",
       "    </tr>\n",
       "  </tbody>\n",
       "</table>\n",
       "</div>"
      ],
      "text/plain": [
       "                                                                   2244  \\\n",
       "popularity                                                      0.25054   \n",
       "original_title                                        The Warrior's Way   \n",
       "cast                  Kate Bosworth|Jang Dong-gun|Geoffrey Rush|Dann...   \n",
       "director                                                     Sngmoo Lee   \n",
       "tagline                                         Assassin. Hero. Legend.   \n",
       "runtime                                                             100   \n",
       "genres                        Adventure|Fantasy|Action|Western|Thriller   \n",
       "production_companies                           Boram Entertainment Inc.   \n",
       "release_date                                        2010-12-02 00:00:00   \n",
       "vote_count                                                           74   \n",
       "vote_average                                                        6.4   \n",
       "release_year                                                       2010   \n",
       "budget_adj                                                  425000000.0   \n",
       "revenue_adj                                                  11087569.0   \n",
       "profit_earned                                              -413912431.0   \n",
       "\n",
       "                                                                   3581  \n",
       "popularity                                                      0.52043  \n",
       "original_title                                  Love, Wedding, Marriage  \n",
       "cast                  Mandy Moore|Kellan Lutz|Jessica Szohr|Autumn F...  \n",
       "director                                                Dermot Mulroney  \n",
       "tagline                                            Here comes the ride.  \n",
       "runtime                                                              90  \n",
       "genres                                                   Comedy|Romance  \n",
       "production_companies  120dB Films|Scion Films|Voodoo Production Serv...  \n",
       "release_date                                        2011-06-03 00:00:00  \n",
       "vote_count                                                           55  \n",
       "vote_average                                                        5.3  \n",
       "release_year                                                       2011  \n",
       "budget_adj                                                     0.969398  \n",
       "revenue_adj                                                 1335.830503  \n",
       "profit_earned                                               1334.861105  "
      ]
     },
     "execution_count": 100,
     "metadata": {},
     "output_type": "execute_result"
    }
   ],
   "source": [
    "#for largest budgets\n",
    "high= df['budget_adj'].idxmax()\n",
    "high_info=pd.DataFrame(df.loc[high])\n",
    "    \n",
    "#for lowest earned budgets\n",
    "low= df['budget_adj'].idxmin()\n",
    "low_info=pd.DataFrame(df.loc[low])\n",
    "    \n",
    "#concatenating data\n",
    "info=pd.concat([high_info, low_info], axis=1)\n",
    "info"
   ]
  },
  {
   "cell_type": "markdown",
   "metadata": {},
   "source": [
    "> 'The Warrior's Way' movie is the movie with the largest budget with '425,000,000.0'.\n",
    "\n",
    "> 'Love, Wedding, Marriage' movie is the movie with the lowest budget with '0.969398'."
   ]
  },
  {
   "cell_type": "markdown",
   "metadata": {},
   "source": [
    "### Research Question 3 : What are the movies with largest and lowest earned revenu ?"
   ]
  },
  {
   "cell_type": "code",
   "execution_count": 101,
   "metadata": {
    "scrolled": true
   },
   "outputs": [
    {
     "data": {
      "text/html": [
       "<div>\n",
       "<style scoped>\n",
       "    .dataframe tbody tr th:only-of-type {\n",
       "        vertical-align: middle;\n",
       "    }\n",
       "\n",
       "    .dataframe tbody tr th {\n",
       "        vertical-align: top;\n",
       "    }\n",
       "\n",
       "    .dataframe thead th {\n",
       "        text-align: right;\n",
       "    }\n",
       "</style>\n",
       "<table border=\"1\" class=\"dataframe\">\n",
       "  <thead>\n",
       "    <tr style=\"text-align: right;\">\n",
       "      <th></th>\n",
       "      <th>1386</th>\n",
       "      <th>5067</th>\n",
       "    </tr>\n",
       "  </thead>\n",
       "  <tbody>\n",
       "    <tr>\n",
       "      <th>popularity</th>\n",
       "      <td>9.432768</td>\n",
       "      <td>0.462609</td>\n",
       "    </tr>\n",
       "    <tr>\n",
       "      <th>original_title</th>\n",
       "      <td>Avatar</td>\n",
       "      <td>Shattered Glass</td>\n",
       "    </tr>\n",
       "    <tr>\n",
       "      <th>cast</th>\n",
       "      <td>Sam Worthington|Zoe Saldana|Sigourney Weaver|S...</td>\n",
       "      <td>Hayden Christensen|Peter Sarsgaard|ChloÃ« Sevi...</td>\n",
       "    </tr>\n",
       "    <tr>\n",
       "      <th>director</th>\n",
       "      <td>James Cameron</td>\n",
       "      <td>Billy Ray</td>\n",
       "    </tr>\n",
       "    <tr>\n",
       "      <th>tagline</th>\n",
       "      <td>Enter the World of Pandora.</td>\n",
       "      <td>NaN</td>\n",
       "    </tr>\n",
       "    <tr>\n",
       "      <th>runtime</th>\n",
       "      <td>162</td>\n",
       "      <td>94</td>\n",
       "    </tr>\n",
       "    <tr>\n",
       "      <th>genres</th>\n",
       "      <td>Action|Adventure|Fantasy|Science Fiction</td>\n",
       "      <td>Drama|History</td>\n",
       "    </tr>\n",
       "    <tr>\n",
       "      <th>production_companies</th>\n",
       "      <td>Ingenious Film Partners|Twentieth Century Fox ...</td>\n",
       "      <td>Lions Gate Films|Cruise/Wagner Productions|Bau...</td>\n",
       "    </tr>\n",
       "    <tr>\n",
       "      <th>release_date</th>\n",
       "      <td>2009-12-10 00:00:00</td>\n",
       "      <td>2003-11-14 00:00:00</td>\n",
       "    </tr>\n",
       "    <tr>\n",
       "      <th>vote_count</th>\n",
       "      <td>8458</td>\n",
       "      <td>46</td>\n",
       "    </tr>\n",
       "    <tr>\n",
       "      <th>vote_average</th>\n",
       "      <td>7.1</td>\n",
       "      <td>6.4</td>\n",
       "    </tr>\n",
       "    <tr>\n",
       "      <th>release_year</th>\n",
       "      <td>2009</td>\n",
       "      <td>2003</td>\n",
       "    </tr>\n",
       "    <tr>\n",
       "      <th>budget_adj</th>\n",
       "      <td>240886902.887613</td>\n",
       "      <td>7112115.868695</td>\n",
       "    </tr>\n",
       "    <tr>\n",
       "      <th>revenue_adj</th>\n",
       "      <td>2827123750.41189</td>\n",
       "      <td>2.370705</td>\n",
       "    </tr>\n",
       "    <tr>\n",
       "      <th>profit_earned</th>\n",
       "      <td>2586236847.524277</td>\n",
       "      <td>-7112113.49799</td>\n",
       "    </tr>\n",
       "  </tbody>\n",
       "</table>\n",
       "</div>"
      ],
      "text/plain": [
       "                                                                   1386  \\\n",
       "popularity                                                     9.432768   \n",
       "original_title                                                   Avatar   \n",
       "cast                  Sam Worthington|Zoe Saldana|Sigourney Weaver|S...   \n",
       "director                                                  James Cameron   \n",
       "tagline                                     Enter the World of Pandora.   \n",
       "runtime                                                             162   \n",
       "genres                         Action|Adventure|Fantasy|Science Fiction   \n",
       "production_companies  Ingenious Film Partners|Twentieth Century Fox ...   \n",
       "release_date                                        2009-12-10 00:00:00   \n",
       "vote_count                                                         8458   \n",
       "vote_average                                                        7.1   \n",
       "release_year                                                       2009   \n",
       "budget_adj                                             240886902.887613   \n",
       "revenue_adj                                            2827123750.41189   \n",
       "profit_earned                                         2586236847.524277   \n",
       "\n",
       "                                                                   5067  \n",
       "popularity                                                     0.462609  \n",
       "original_title                                          Shattered Glass  \n",
       "cast                  Hayden Christensen|Peter Sarsgaard|ChloÃ« Sevi...  \n",
       "director                                                      Billy Ray  \n",
       "tagline                                                             NaN  \n",
       "runtime                                                              94  \n",
       "genres                                                    Drama|History  \n",
       "production_companies  Lions Gate Films|Cruise/Wagner Productions|Bau...  \n",
       "release_date                                        2003-11-14 00:00:00  \n",
       "vote_count                                                           46  \n",
       "vote_average                                                        6.4  \n",
       "release_year                                                       2003  \n",
       "budget_adj                                               7112115.868695  \n",
       "revenue_adj                                                    2.370705  \n",
       "profit_earned                                            -7112113.49799  "
      ]
     },
     "execution_count": 101,
     "metadata": {},
     "output_type": "execute_result"
    }
   ],
   "source": [
    "#for largest revenu\n",
    "high= df['revenue_adj'].idxmax()\n",
    "high_info=pd.DataFrame(df.loc[high])\n",
    "    \n",
    "#for lowest earned revenu\n",
    "low= df['revenue_adj'].idxmin()\n",
    "low_info=pd.DataFrame(df.loc[low])\n",
    "    \n",
    "#concatenating data\n",
    "info=pd.concat([high_info, low_info], axis=1)\n",
    "info"
   ]
  },
  {
   "cell_type": "markdown",
   "metadata": {},
   "source": [
    "> 'Avatar' movie is the movie with the largest revenu with '2,827,123,750.41189'.\n",
    "\n",
    "> 'Shattered Glass' movie is the movie with the lowest revenu with '2.370705'."
   ]
  },
  {
   "cell_type": "markdown",
   "metadata": {},
   "source": [
    "### Research Question 4 : What are the movies with longest and shortest runtime values ?"
   ]
  },
  {
   "cell_type": "code",
   "execution_count": 102,
   "metadata": {},
   "outputs": [
    {
     "data": {
      "text/html": [
       "<div>\n",
       "<style scoped>\n",
       "    .dataframe tbody tr th:only-of-type {\n",
       "        vertical-align: middle;\n",
       "    }\n",
       "\n",
       "    .dataframe tbody tr th {\n",
       "        vertical-align: top;\n",
       "    }\n",
       "\n",
       "    .dataframe thead th {\n",
       "        text-align: right;\n",
       "    }\n",
       "</style>\n",
       "<table border=\"1\" class=\"dataframe\">\n",
       "  <thead>\n",
       "    <tr style=\"text-align: right;\">\n",
       "      <th></th>\n",
       "      <th>2107</th>\n",
       "      <th>5162</th>\n",
       "    </tr>\n",
       "  </thead>\n",
       "  <tbody>\n",
       "    <tr>\n",
       "      <th>popularity</th>\n",
       "      <td>0.534192</td>\n",
       "      <td>0.208637</td>\n",
       "    </tr>\n",
       "    <tr>\n",
       "      <th>original_title</th>\n",
       "      <td>Carlos</td>\n",
       "      <td>Kid's Story</td>\n",
       "    </tr>\n",
       "    <tr>\n",
       "      <th>cast</th>\n",
       "      <td>Edgar RamÃ­rez|Alexander Scheer|Fadi Abi Samra...</td>\n",
       "      <td>Clayton Watson|Keanu Reeves|Carrie-Anne Moss|K...</td>\n",
       "    </tr>\n",
       "    <tr>\n",
       "      <th>director</th>\n",
       "      <td>Olivier Assayas</td>\n",
       "      <td>Shinichiro Watanabe</td>\n",
       "    </tr>\n",
       "    <tr>\n",
       "      <th>tagline</th>\n",
       "      <td>The man who hijacked the world</td>\n",
       "      <td>NaN</td>\n",
       "    </tr>\n",
       "    <tr>\n",
       "      <th>runtime</th>\n",
       "      <td>338</td>\n",
       "      <td>15</td>\n",
       "    </tr>\n",
       "    <tr>\n",
       "      <th>genres</th>\n",
       "      <td>Crime|Drama|Thriller|History</td>\n",
       "      <td>Science Fiction|Animation</td>\n",
       "    </tr>\n",
       "    <tr>\n",
       "      <th>production_companies</th>\n",
       "      <td>Egoli Tossell Film AG|Canal+|Arte France|Films...</td>\n",
       "      <td>Studio 4Â°C</td>\n",
       "    </tr>\n",
       "    <tr>\n",
       "      <th>release_date</th>\n",
       "      <td>2010-05-19 00:00:00</td>\n",
       "      <td>2003-06-02 00:00:00</td>\n",
       "    </tr>\n",
       "    <tr>\n",
       "      <th>vote_count</th>\n",
       "      <td>35</td>\n",
       "      <td>16</td>\n",
       "    </tr>\n",
       "    <tr>\n",
       "      <th>vote_average</th>\n",
       "      <td>6.2</td>\n",
       "      <td>6.8</td>\n",
       "    </tr>\n",
       "    <tr>\n",
       "      <th>release_year</th>\n",
       "      <td>2010</td>\n",
       "      <td>2003</td>\n",
       "    </tr>\n",
       "    <tr>\n",
       "      <th>budget_adj</th>\n",
       "      <td>18000000.0</td>\n",
       "      <td>11.853526</td>\n",
       "    </tr>\n",
       "    <tr>\n",
       "      <th>revenue_adj</th>\n",
       "      <td>871279.0</td>\n",
       "      <td>5.926763</td>\n",
       "    </tr>\n",
       "    <tr>\n",
       "      <th>profit_earned</th>\n",
       "      <td>-17128721.0</td>\n",
       "      <td>-5.926763</td>\n",
       "    </tr>\n",
       "  </tbody>\n",
       "</table>\n",
       "</div>"
      ],
      "text/plain": [
       "                                                                   2107  \\\n",
       "popularity                                                     0.534192   \n",
       "original_title                                                   Carlos   \n",
       "cast                  Edgar RamÃ­rez|Alexander Scheer|Fadi Abi Samra...   \n",
       "director                                                Olivier Assayas   \n",
       "tagline                                  The man who hijacked the world   \n",
       "runtime                                                             338   \n",
       "genres                                     Crime|Drama|Thriller|History   \n",
       "production_companies  Egoli Tossell Film AG|Canal+|Arte France|Films...   \n",
       "release_date                                        2010-05-19 00:00:00   \n",
       "vote_count                                                           35   \n",
       "vote_average                                                        6.2   \n",
       "release_year                                                       2010   \n",
       "budget_adj                                                   18000000.0   \n",
       "revenue_adj                                                    871279.0   \n",
       "profit_earned                                               -17128721.0   \n",
       "\n",
       "                                                                   5162  \n",
       "popularity                                                     0.208637  \n",
       "original_title                                              Kid's Story  \n",
       "cast                  Clayton Watson|Keanu Reeves|Carrie-Anne Moss|K...  \n",
       "director                                            Shinichiro Watanabe  \n",
       "tagline                                                             NaN  \n",
       "runtime                                                              15  \n",
       "genres                                        Science Fiction|Animation  \n",
       "production_companies                                        Studio 4Â°C  \n",
       "release_date                                        2003-06-02 00:00:00  \n",
       "vote_count                                                           16  \n",
       "vote_average                                                        6.8  \n",
       "release_year                                                       2003  \n",
       "budget_adj                                                    11.853526  \n",
       "revenue_adj                                                    5.926763  \n",
       "profit_earned                                                 -5.926763  "
      ]
     },
     "execution_count": 102,
     "metadata": {},
     "output_type": "execute_result"
    }
   ],
   "source": [
    "#for largest revenu\n",
    "high= df['runtime'].idxmax()\n",
    "high_info=pd.DataFrame(df.loc[high])\n",
    "    \n",
    "#for lowest earned revenu\n",
    "low= df['runtime'].idxmin()\n",
    "low_info=pd.DataFrame(df.loc[low])\n",
    "    \n",
    "#concatenating data\n",
    "info=pd.concat([high_info, low_info], axis=1)\n",
    "info"
   ]
  },
  {
   "cell_type": "markdown",
   "metadata": {},
   "source": [
    "> 'Carlos' movie is the movie with the longest runtime with '338'min.\n",
    "\n",
    "> 'Kid's Story' movie is the movie with the shortest runtime with '15'min."
   ]
  },
  {
   "cell_type": "markdown",
   "metadata": {},
   "source": [
    "### Research Question 5 : What are the movies with highest and lowest popularity ?"
   ]
  },
  {
   "cell_type": "code",
   "execution_count": 103,
   "metadata": {},
   "outputs": [
    {
     "data": {
      "text/html": [
       "<div>\n",
       "<style scoped>\n",
       "    .dataframe tbody tr th:only-of-type {\n",
       "        vertical-align: middle;\n",
       "    }\n",
       "\n",
       "    .dataframe tbody tr th {\n",
       "        vertical-align: top;\n",
       "    }\n",
       "\n",
       "    .dataframe thead th {\n",
       "        text-align: right;\n",
       "    }\n",
       "</style>\n",
       "<table border=\"1\" class=\"dataframe\">\n",
       "  <thead>\n",
       "    <tr style=\"text-align: right;\">\n",
       "      <th></th>\n",
       "      <th>0</th>\n",
       "      <th>7268</th>\n",
       "    </tr>\n",
       "  </thead>\n",
       "  <tbody>\n",
       "    <tr>\n",
       "      <th>popularity</th>\n",
       "      <td>32.985763</td>\n",
       "      <td>0.001117</td>\n",
       "    </tr>\n",
       "    <tr>\n",
       "      <th>original_title</th>\n",
       "      <td>Jurassic World</td>\n",
       "      <td>Born into Brothels</td>\n",
       "    </tr>\n",
       "    <tr>\n",
       "      <th>cast</th>\n",
       "      <td>Chris Pratt|Bryce Dallas Howard|Irrfan Khan|Vi...</td>\n",
       "      <td>Zana Briski|Avijit|Geeta Masi|Kochi|Mamuni</td>\n",
       "    </tr>\n",
       "    <tr>\n",
       "      <th>director</th>\n",
       "      <td>Colin Trevorrow</td>\n",
       "      <td>Zana Briski|Ross Kauffman</td>\n",
       "    </tr>\n",
       "    <tr>\n",
       "      <th>tagline</th>\n",
       "      <td>The park is open.</td>\n",
       "      <td>NaN</td>\n",
       "    </tr>\n",
       "    <tr>\n",
       "      <th>runtime</th>\n",
       "      <td>124</td>\n",
       "      <td>85</td>\n",
       "    </tr>\n",
       "    <tr>\n",
       "      <th>genres</th>\n",
       "      <td>Action|Adventure|Science Fiction|Thriller</td>\n",
       "      <td>Documentary</td>\n",
       "    </tr>\n",
       "    <tr>\n",
       "      <th>production_companies</th>\n",
       "      <td>Universal Studios|Amblin Entertainment|Legenda...</td>\n",
       "      <td>NaN</td>\n",
       "    </tr>\n",
       "    <tr>\n",
       "      <th>release_date</th>\n",
       "      <td>2015-06-09 00:00:00</td>\n",
       "      <td>2004-12-08 00:00:00</td>\n",
       "    </tr>\n",
       "    <tr>\n",
       "      <th>vote_count</th>\n",
       "      <td>5562</td>\n",
       "      <td>23</td>\n",
       "    </tr>\n",
       "    <tr>\n",
       "      <th>vote_average</th>\n",
       "      <td>6.5</td>\n",
       "      <td>6.4</td>\n",
       "    </tr>\n",
       "    <tr>\n",
       "      <th>release_year</th>\n",
       "      <td>2015</td>\n",
       "      <td>2004</td>\n",
       "    </tr>\n",
       "    <tr>\n",
       "      <th>budget_adj</th>\n",
       "      <td>137999939.280026</td>\n",
       "      <td>404055.889934</td>\n",
       "    </tr>\n",
       "    <tr>\n",
       "      <th>revenue_adj</th>\n",
       "      <td>1392445892.5238</td>\n",
       "      <td>4057946.001509</td>\n",
       "    </tr>\n",
       "    <tr>\n",
       "      <th>profit_earned</th>\n",
       "      <td>1254445953.243774</td>\n",
       "      <td>3653890.111575</td>\n",
       "    </tr>\n",
       "  </tbody>\n",
       "</table>\n",
       "</div>"
      ],
      "text/plain": [
       "                                                                   0     \\\n",
       "popularity                                                    32.985763   \n",
       "original_title                                           Jurassic World   \n",
       "cast                  Chris Pratt|Bryce Dallas Howard|Irrfan Khan|Vi...   \n",
       "director                                                Colin Trevorrow   \n",
       "tagline                                               The park is open.   \n",
       "runtime                                                             124   \n",
       "genres                        Action|Adventure|Science Fiction|Thriller   \n",
       "production_companies  Universal Studios|Amblin Entertainment|Legenda...   \n",
       "release_date                                        2015-06-09 00:00:00   \n",
       "vote_count                                                         5562   \n",
       "vote_average                                                        6.5   \n",
       "release_year                                                       2015   \n",
       "budget_adj                                             137999939.280026   \n",
       "revenue_adj                                             1392445892.5238   \n",
       "profit_earned                                         1254445953.243774   \n",
       "\n",
       "                                                            7268  \n",
       "popularity                                              0.001117  \n",
       "original_title                                Born into Brothels  \n",
       "cast                  Zana Briski|Avijit|Geeta Masi|Kochi|Mamuni  \n",
       "director                               Zana Briski|Ross Kauffman  \n",
       "tagline                                                      NaN  \n",
       "runtime                                                       85  \n",
       "genres                                               Documentary  \n",
       "production_companies                                         NaN  \n",
       "release_date                                 2004-12-08 00:00:00  \n",
       "vote_count                                                    23  \n",
       "vote_average                                                 6.4  \n",
       "release_year                                                2004  \n",
       "budget_adj                                         404055.889934  \n",
       "revenue_adj                                       4057946.001509  \n",
       "profit_earned                                     3653890.111575  "
      ]
     },
     "execution_count": 103,
     "metadata": {},
     "output_type": "execute_result"
    }
   ],
   "source": [
    "#for largest revenu\n",
    "high= df['popularity'].idxmax()\n",
    "high_info=pd.DataFrame(df.loc[high])\n",
    "    \n",
    "#for lowest earned revenu\n",
    "low= df['popularity'].idxmin()\n",
    "low_info=pd.DataFrame(df.loc[low])\n",
    "    \n",
    "#concatenating data\n",
    "info=pd.concat([high_info, low_info], axis=1)\n",
    "info"
   ]
  },
  {
   "cell_type": "markdown",
   "metadata": {},
   "source": [
    "> 'Jurassic World' movie is the movie with the highest popularity with '32.985763 %'.\n",
    "\n",
    "> 'Born into Brothels' movie is the movie with the lowest popularity with '0.001117 %'."
   ]
  },
  {
   "cell_type": "markdown",
   "metadata": {},
   "source": [
    "### Research Question 6 : What are the movies with highest and lowest vote count ?"
   ]
  },
  {
   "cell_type": "code",
   "execution_count": 104,
   "metadata": {},
   "outputs": [
    {
     "data": {
      "text/html": [
       "<div>\n",
       "<style scoped>\n",
       "    .dataframe tbody tr th:only-of-type {\n",
       "        vertical-align: middle;\n",
       "    }\n",
       "\n",
       "    .dataframe tbody tr th {\n",
       "        vertical-align: top;\n",
       "    }\n",
       "\n",
       "    .dataframe thead th {\n",
       "        text-align: right;\n",
       "    }\n",
       "</style>\n",
       "<table border=\"1\" class=\"dataframe\">\n",
       "  <thead>\n",
       "    <tr style=\"text-align: right;\">\n",
       "      <th></th>\n",
       "      <th>1919</th>\n",
       "      <th>1818</th>\n",
       "    </tr>\n",
       "  </thead>\n",
       "  <tbody>\n",
       "    <tr>\n",
       "      <th>popularity</th>\n",
       "      <td>9.363643</td>\n",
       "      <td>0.159638</td>\n",
       "    </tr>\n",
       "    <tr>\n",
       "      <th>original_title</th>\n",
       "      <td>Inception</td>\n",
       "      <td>Beautiful</td>\n",
       "    </tr>\n",
       "    <tr>\n",
       "      <th>cast</th>\n",
       "      <td>Leonardo DiCaprio|Joseph Gordon-Levitt|Ellen P...</td>\n",
       "      <td>Deborra-Lee Furness|Peta Wilson|Aaron Jeffery|...</td>\n",
       "    </tr>\n",
       "    <tr>\n",
       "      <th>director</th>\n",
       "      <td>Christopher Nolan</td>\n",
       "      <td>Dean O'Flaherty</td>\n",
       "    </tr>\n",
       "    <tr>\n",
       "      <th>tagline</th>\n",
       "      <td>Your mind is the scene of the crime.</td>\n",
       "      <td>NaN</td>\n",
       "    </tr>\n",
       "    <tr>\n",
       "      <th>runtime</th>\n",
       "      <td>148</td>\n",
       "      <td>97</td>\n",
       "    </tr>\n",
       "    <tr>\n",
       "      <th>genres</th>\n",
       "      <td>Action|Thriller|Science Fiction|Mystery|Adventure</td>\n",
       "      <td>Drama|Mystery|Thriller</td>\n",
       "    </tr>\n",
       "    <tr>\n",
       "      <th>production_companies</th>\n",
       "      <td>Legendary Pictures|Warner Bros.|Syncopy</td>\n",
       "      <td>Kojo Pictures</td>\n",
       "    </tr>\n",
       "    <tr>\n",
       "      <th>release_date</th>\n",
       "      <td>2010-07-14 00:00:00</td>\n",
       "      <td>2009-04-27 00:00:00</td>\n",
       "    </tr>\n",
       "    <tr>\n",
       "      <th>vote_count</th>\n",
       "      <td>9767</td>\n",
       "      <td>10</td>\n",
       "    </tr>\n",
       "    <tr>\n",
       "      <th>vote_average</th>\n",
       "      <td>7.9</td>\n",
       "      <td>4.4</td>\n",
       "    </tr>\n",
       "    <tr>\n",
       "      <th>release_year</th>\n",
       "      <td>2010</td>\n",
       "      <td>2009</td>\n",
       "    </tr>\n",
       "    <tr>\n",
       "      <th>budget_adj</th>\n",
       "      <td>160000000.0</td>\n",
       "      <td>1524600.651187</td>\n",
       "    </tr>\n",
       "    <tr>\n",
       "      <th>revenue_adj</th>\n",
       "      <td>825500000.0</td>\n",
       "      <td>56918.424311</td>\n",
       "    </tr>\n",
       "    <tr>\n",
       "      <th>profit_earned</th>\n",
       "      <td>665500000.0</td>\n",
       "      <td>-1467682.226876</td>\n",
       "    </tr>\n",
       "  </tbody>\n",
       "</table>\n",
       "</div>"
      ],
      "text/plain": [
       "                                                                   1919  \\\n",
       "popularity                                                     9.363643   \n",
       "original_title                                                Inception   \n",
       "cast                  Leonardo DiCaprio|Joseph Gordon-Levitt|Ellen P...   \n",
       "director                                              Christopher Nolan   \n",
       "tagline                            Your mind is the scene of the crime.   \n",
       "runtime                                                             148   \n",
       "genres                Action|Thriller|Science Fiction|Mystery|Adventure   \n",
       "production_companies            Legendary Pictures|Warner Bros.|Syncopy   \n",
       "release_date                                        2010-07-14 00:00:00   \n",
       "vote_count                                                         9767   \n",
       "vote_average                                                        7.9   \n",
       "release_year                                                       2010   \n",
       "budget_adj                                                  160000000.0   \n",
       "revenue_adj                                                 825500000.0   \n",
       "profit_earned                                               665500000.0   \n",
       "\n",
       "                                                                   1818  \n",
       "popularity                                                     0.159638  \n",
       "original_title                                                Beautiful  \n",
       "cast                  Deborra-Lee Furness|Peta Wilson|Aaron Jeffery|...  \n",
       "director                                                Dean O'Flaherty  \n",
       "tagline                                                             NaN  \n",
       "runtime                                                              97  \n",
       "genres                                           Drama|Mystery|Thriller  \n",
       "production_companies                                      Kojo Pictures  \n",
       "release_date                                        2009-04-27 00:00:00  \n",
       "vote_count                                                           10  \n",
       "vote_average                                                        4.4  \n",
       "release_year                                                       2009  \n",
       "budget_adj                                               1524600.651187  \n",
       "revenue_adj                                                56918.424311  \n",
       "profit_earned                                           -1467682.226876  "
      ]
     },
     "execution_count": 104,
     "metadata": {},
     "output_type": "execute_result"
    }
   ],
   "source": [
    "#for largest revenu\n",
    "high= df['vote_count'].idxmax()\n",
    "high_info=pd.DataFrame(df.loc[high])\n",
    "    \n",
    "#for lowest earned revenu\n",
    "low= df['vote_count'].idxmin()\n",
    "low_info=pd.DataFrame(df.loc[low])\n",
    "    \n",
    "#concatenating data\n",
    "info=pd.concat([high_info, low_info], axis=1)\n",
    "info"
   ]
  },
  {
   "cell_type": "markdown",
   "metadata": {},
   "source": [
    "> 'Inception' movie is the movie with the highest vote count with '9767' person.\n",
    "\n",
    "> 'Beautiful' movie is the movie with the lowest vote count with '10' person."
   ]
  },
  {
   "cell_type": "markdown",
   "metadata": {},
   "source": [
    "### Research Question 7 : What are the movies with highest and lowest vote average ?"
   ]
  },
  {
   "cell_type": "code",
   "execution_count": 105,
   "metadata": {},
   "outputs": [
    {
     "data": {
      "text/html": [
       "<div>\n",
       "<style scoped>\n",
       "    .dataframe tbody tr th:only-of-type {\n",
       "        vertical-align: middle;\n",
       "    }\n",
       "\n",
       "    .dataframe tbody tr th {\n",
       "        vertical-align: top;\n",
       "    }\n",
       "\n",
       "    .dataframe thead th {\n",
       "        text-align: right;\n",
       "    }\n",
       "</style>\n",
       "<table border=\"1\" class=\"dataframe\">\n",
       "  <thead>\n",
       "    <tr style=\"text-align: right;\">\n",
       "      <th></th>\n",
       "      <th>4178</th>\n",
       "      <th>4859</th>\n",
       "    </tr>\n",
       "  </thead>\n",
       "  <tbody>\n",
       "    <tr>\n",
       "      <th>popularity</th>\n",
       "      <td>7.192039</td>\n",
       "      <td>0.111351</td>\n",
       "    </tr>\n",
       "    <tr>\n",
       "      <th>original_title</th>\n",
       "      <td>The Shawshank Redemption</td>\n",
       "      <td>Foodfight!</td>\n",
       "    </tr>\n",
       "    <tr>\n",
       "      <th>cast</th>\n",
       "      <td>Tim Robbins|Morgan Freeman|Bob Gunton|William ...</td>\n",
       "      <td>Charlie Sheen|Wayne Brady|Hilary Duff|Eva Long...</td>\n",
       "    </tr>\n",
       "    <tr>\n",
       "      <th>director</th>\n",
       "      <td>Frank Darabont</td>\n",
       "      <td>Lawrence Kasanoff</td>\n",
       "    </tr>\n",
       "    <tr>\n",
       "      <th>tagline</th>\n",
       "      <td>Fear can hold you prisoner. Hope can set you f...</td>\n",
       "      <td>When good food... goes bad!</td>\n",
       "    </tr>\n",
       "    <tr>\n",
       "      <th>runtime</th>\n",
       "      <td>142</td>\n",
       "      <td>87</td>\n",
       "    </tr>\n",
       "    <tr>\n",
       "      <th>genres</th>\n",
       "      <td>Drama|Crime</td>\n",
       "      <td>Animation|Action|Comedy|Family</td>\n",
       "    </tr>\n",
       "    <tr>\n",
       "      <th>production_companies</th>\n",
       "      <td>Castle Rock Entertainment</td>\n",
       "      <td>Threshold Entertainment|Lions Gate Family Ente...</td>\n",
       "    </tr>\n",
       "    <tr>\n",
       "      <th>release_date</th>\n",
       "      <td>1994-09-10 00:00:00</td>\n",
       "      <td>2012-06-15 00:00:00</td>\n",
       "    </tr>\n",
       "    <tr>\n",
       "      <th>vote_count</th>\n",
       "      <td>5754</td>\n",
       "      <td>12</td>\n",
       "    </tr>\n",
       "    <tr>\n",
       "      <th>vote_average</th>\n",
       "      <td>8.4</td>\n",
       "      <td>2.2</td>\n",
       "    </tr>\n",
       "    <tr>\n",
       "      <th>release_year</th>\n",
       "      <td>1994</td>\n",
       "      <td>2012</td>\n",
       "    </tr>\n",
       "    <tr>\n",
       "      <th>budget_adj</th>\n",
       "      <td>36777789.039954</td>\n",
       "      <td>61733378.287896</td>\n",
       "    </tr>\n",
       "    <tr>\n",
       "      <th>revenue_adj</th>\n",
       "      <td>41693462.718576</td>\n",
       "      <td>70001.852001</td>\n",
       "    </tr>\n",
       "    <tr>\n",
       "      <th>profit_earned</th>\n",
       "      <td>4915673.678622</td>\n",
       "      <td>-61663376.435895</td>\n",
       "    </tr>\n",
       "  </tbody>\n",
       "</table>\n",
       "</div>"
      ],
      "text/plain": [
       "                                                                   4178  \\\n",
       "popularity                                                     7.192039   \n",
       "original_title                                 The Shawshank Redemption   \n",
       "cast                  Tim Robbins|Morgan Freeman|Bob Gunton|William ...   \n",
       "director                                                 Frank Darabont   \n",
       "tagline               Fear can hold you prisoner. Hope can set you f...   \n",
       "runtime                                                             142   \n",
       "genres                                                      Drama|Crime   \n",
       "production_companies                          Castle Rock Entertainment   \n",
       "release_date                                        1994-09-10 00:00:00   \n",
       "vote_count                                                         5754   \n",
       "vote_average                                                        8.4   \n",
       "release_year                                                       1994   \n",
       "budget_adj                                              36777789.039954   \n",
       "revenue_adj                                             41693462.718576   \n",
       "profit_earned                                            4915673.678622   \n",
       "\n",
       "                                                                   4859  \n",
       "popularity                                                     0.111351  \n",
       "original_title                                               Foodfight!  \n",
       "cast                  Charlie Sheen|Wayne Brady|Hilary Duff|Eva Long...  \n",
       "director                                              Lawrence Kasanoff  \n",
       "tagline                                     When good food... goes bad!  \n",
       "runtime                                                              87  \n",
       "genres                                   Animation|Action|Comedy|Family  \n",
       "production_companies  Threshold Entertainment|Lions Gate Family Ente...  \n",
       "release_date                                        2012-06-15 00:00:00  \n",
       "vote_count                                                           12  \n",
       "vote_average                                                        2.2  \n",
       "release_year                                                       2012  \n",
       "budget_adj                                              61733378.287896  \n",
       "revenue_adj                                                70001.852001  \n",
       "profit_earned                                          -61663376.435895  "
      ]
     },
     "execution_count": 105,
     "metadata": {},
     "output_type": "execute_result"
    }
   ],
   "source": [
    "#for largest revenu\n",
    "high= df['vote_average'].idxmax()\n",
    "high_info=pd.DataFrame(df.loc[high])\n",
    "    \n",
    "#for lowest earned revenu\n",
    "low= df['vote_average'].idxmin()\n",
    "low_info=pd.DataFrame(df.loc[low])\n",
    "    \n",
    "#concatenating data\n",
    "info=pd.concat([high_info, low_info], axis=1)\n",
    "info"
   ]
  },
  {
   "cell_type": "markdown",
   "metadata": {},
   "source": [
    "> 'The Shawshank Redemption\t' movie is the movie with the highest vote average with '8.4/10'.\n",
    "\n",
    "> 'Foodfight!' movie is the movie with the lowest vote average with '2.2/10'."
   ]
  },
  {
   "cell_type": "code",
   "execution_count": null,
   "metadata": {},
   "outputs": [],
   "source": []
  },
  {
   "cell_type": "markdown",
   "metadata": {},
   "source": [
    "### Research Question 8 : What is the average of popularity & runtime & vote_count & vote_average & budget & revenue & profit earned of the movies ?"
   ]
  },
  {
   "cell_type": "code",
   "execution_count": 106,
   "metadata": {
    "scrolled": false
   },
   "outputs": [
    {
     "data": {
      "text/html": [
       "<div>\n",
       "<style scoped>\n",
       "    .dataframe tbody tr th:only-of-type {\n",
       "        vertical-align: middle;\n",
       "    }\n",
       "\n",
       "    .dataframe tbody tr th {\n",
       "        vertical-align: top;\n",
       "    }\n",
       "\n",
       "    .dataframe thead th {\n",
       "        text-align: right;\n",
       "    }\n",
       "</style>\n",
       "<table border=\"1\" class=\"dataframe\">\n",
       "  <thead>\n",
       "    <tr style=\"text-align: right;\">\n",
       "      <th></th>\n",
       "      <th>popularity</th>\n",
       "      <th>runtime</th>\n",
       "      <th>vote_count</th>\n",
       "      <th>vote_average</th>\n",
       "      <th>release_year</th>\n",
       "      <th>budget_adj</th>\n",
       "      <th>revenue_adj</th>\n",
       "      <th>profit_earned</th>\n",
       "    </tr>\n",
       "  </thead>\n",
       "  <tbody>\n",
       "    <tr>\n",
       "      <th>count</th>\n",
       "      <td>3854.000000</td>\n",
       "      <td>3854.000000</td>\n",
       "      <td>3854.000000</td>\n",
       "      <td>3854.000000</td>\n",
       "      <td>3854.000000</td>\n",
       "      <td>3.854000e+03</td>\n",
       "      <td>3.854000e+03</td>\n",
       "      <td>3.854000e+03</td>\n",
       "    </tr>\n",
       "    <tr>\n",
       "      <th>mean</th>\n",
       "      <td>1.191554</td>\n",
       "      <td>109.220291</td>\n",
       "      <td>527.720291</td>\n",
       "      <td>6.168163</td>\n",
       "      <td>2001.261028</td>\n",
       "      <td>4.423999e+07</td>\n",
       "      <td>1.370647e+08</td>\n",
       "      <td>9.282470e+07</td>\n",
       "    </tr>\n",
       "    <tr>\n",
       "      <th>std</th>\n",
       "      <td>1.475162</td>\n",
       "      <td>19.922820</td>\n",
       "      <td>879.956821</td>\n",
       "      <td>0.794920</td>\n",
       "      <td>11.282575</td>\n",
       "      <td>4.480925e+07</td>\n",
       "      <td>2.161114e+08</td>\n",
       "      <td>1.940715e+08</td>\n",
       "    </tr>\n",
       "    <tr>\n",
       "      <th>min</th>\n",
       "      <td>0.001117</td>\n",
       "      <td>15.000000</td>\n",
       "      <td>10.000000</td>\n",
       "      <td>2.200000</td>\n",
       "      <td>1960.000000</td>\n",
       "      <td>9.693980e-01</td>\n",
       "      <td>2.370705e+00</td>\n",
       "      <td>-4.139124e+08</td>\n",
       "    </tr>\n",
       "    <tr>\n",
       "      <th>25%</th>\n",
       "      <td>0.462367</td>\n",
       "      <td>95.000000</td>\n",
       "      <td>71.000000</td>\n",
       "      <td>5.700000</td>\n",
       "      <td>1995.000000</td>\n",
       "      <td>1.309053e+07</td>\n",
       "      <td>1.835735e+07</td>\n",
       "      <td>-1.504995e+06</td>\n",
       "    </tr>\n",
       "    <tr>\n",
       "      <th>50%</th>\n",
       "      <td>0.797511</td>\n",
       "      <td>106.000000</td>\n",
       "      <td>204.000000</td>\n",
       "      <td>6.200000</td>\n",
       "      <td>2004.000000</td>\n",
       "      <td>3.001611e+07</td>\n",
       "      <td>6.173068e+07</td>\n",
       "      <td>2.737064e+07</td>\n",
       "    </tr>\n",
       "    <tr>\n",
       "      <th>75%</th>\n",
       "      <td>1.368324</td>\n",
       "      <td>119.000000</td>\n",
       "      <td>580.000000</td>\n",
       "      <td>6.700000</td>\n",
       "      <td>2010.000000</td>\n",
       "      <td>6.061307e+07</td>\n",
       "      <td>1.632577e+08</td>\n",
       "      <td>1.074548e+08</td>\n",
       "    </tr>\n",
       "    <tr>\n",
       "      <th>max</th>\n",
       "      <td>32.985763</td>\n",
       "      <td>338.000000</td>\n",
       "      <td>9767.000000</td>\n",
       "      <td>8.400000</td>\n",
       "      <td>2015.000000</td>\n",
       "      <td>4.250000e+08</td>\n",
       "      <td>2.827124e+09</td>\n",
       "      <td>2.750137e+09</td>\n",
       "    </tr>\n",
       "  </tbody>\n",
       "</table>\n",
       "</div>"
      ],
      "text/plain": [
       "        popularity      runtime   vote_count  vote_average  release_year  \\\n",
       "count  3854.000000  3854.000000  3854.000000   3854.000000   3854.000000   \n",
       "mean      1.191554   109.220291   527.720291      6.168163   2001.261028   \n",
       "std       1.475162    19.922820   879.956821      0.794920     11.282575   \n",
       "min       0.001117    15.000000    10.000000      2.200000   1960.000000   \n",
       "25%       0.462367    95.000000    71.000000      5.700000   1995.000000   \n",
       "50%       0.797511   106.000000   204.000000      6.200000   2004.000000   \n",
       "75%       1.368324   119.000000   580.000000      6.700000   2010.000000   \n",
       "max      32.985763   338.000000  9767.000000      8.400000   2015.000000   \n",
       "\n",
       "         budget_adj   revenue_adj  profit_earned  \n",
       "count  3.854000e+03  3.854000e+03   3.854000e+03  \n",
       "mean   4.423999e+07  1.370647e+08   9.282470e+07  \n",
       "std    4.480925e+07  2.161114e+08   1.940715e+08  \n",
       "min    9.693980e-01  2.370705e+00  -4.139124e+08  \n",
       "25%    1.309053e+07  1.835735e+07  -1.504995e+06  \n",
       "50%    3.001611e+07  6.173068e+07   2.737064e+07  \n",
       "75%    6.061307e+07  1.632577e+08   1.074548e+08  \n",
       "max    4.250000e+08  2.827124e+09   2.750137e+09  "
      ]
     },
     "execution_count": 106,
     "metadata": {},
     "output_type": "execute_result"
    }
   ],
   "source": [
    "df.describe()"
   ]
  },
  {
   "cell_type": "markdown",
   "metadata": {},
   "source": [
    "**Popularity**"
   ]
  },
  {
   "cell_type": "code",
   "execution_count": 107,
   "metadata": {},
   "outputs": [
    {
     "data": {
      "text/plain": [
       "count    3854.000000\n",
       "mean        1.191554\n",
       "std         1.475162\n",
       "min         0.001117\n",
       "25%         0.462367\n",
       "50%         0.797511\n",
       "75%         1.368324\n",
       "max        32.985763\n",
       "Name: popularity, dtype: float64"
      ]
     },
     "execution_count": 107,
     "metadata": {},
     "output_type": "execute_result"
    }
   ],
   "source": [
    "#getting specific popularity \n",
    "df['popularity'].describe()"
   ]
  },
  {
   "cell_type": "markdown",
   "metadata": {},
   "source": [
    ">The average popularity of a movie is 1.191554 %."
   ]
  },
  {
   "cell_type": "markdown",
   "metadata": {},
   "source": [
    "### Graphical Approach "
   ]
  },
  {
   "cell_type": "code",
   "execution_count": 108,
   "metadata": {},
   "outputs": [
    {
     "data": {
      "image/png": "[encoded data removed]",
      "text/plain": [
       "<Figure size 900x500 with 1 Axes>"
      ]
     },
     "metadata": {
      "needs_background": "light"
     },
     "output_type": "display_data"
    }
   ],
   "source": [
    "#plotting a histogram of popularity of movies\n",
    "\n",
    "#giving the figure size(width, height)\n",
    "plt.figure(figsize=(9,5), dpi = 100)\n",
    "\n",
    "#On x-axis \n",
    "plt.xlabel('Popularity of the Movies', fontsize = 15)\n",
    "#On y-axis \n",
    "plt.ylabel('No. of Movies in the Dataset', fontsize=15)\n",
    "#Name of the graph\n",
    "plt.title('Popularity of all the movies', fontsize=15)\n",
    "\n",
    "#giving a histogram plot\n",
    "plt.hist(df['popularity'], rwidth = 0.9, bins =35)\n",
    "#displays the plot\n",
    "plt.show()"
   ]
  },
  {
   "cell_type": "code",
   "execution_count": 109,
   "metadata": {},
   "outputs": [
    {
     "data": {
      "image/png": "[encoded data removed]",
      "text/plain": [
       "<Figure size 648x504 with 1 Axes>"
      ]
     },
     "metadata": {
      "needs_background": "light"
     },
     "output_type": "display_data"
    }
   ],
   "source": [
    "df['popularity'].plot(kind='box', figsize=(9,7));"
   ]
  },
  {
   "cell_type": "markdown",
   "metadata": {},
   "source": [
    ">By looking at the box plot and calculations, we can conclude that..\n",
    ">\n",
    "> 1. 25% of movies have a popularity of 0.462367 .\n",
    "> 2. 50% of movies have a popularity of 0.797511 . (median)\n",
    "> 3. 75% of movies have a popularity of 1.368324 .\n"
   ]
  },
  {
   "cell_type": "markdown",
   "metadata": {},
   "source": [
    "**Runtime**"
   ]
  },
  {
   "cell_type": "code",
   "execution_count": 110,
   "metadata": {
    "scrolled": false
   },
   "outputs": [
    {
     "data": {
      "text/plain": [
       "count    3854.000000\n",
       "mean      109.220291\n",
       "std        19.922820\n",
       "min        15.000000\n",
       "25%        95.000000\n",
       "50%       106.000000\n",
       "75%       119.000000\n",
       "max       338.000000\n",
       "Name: runtime, dtype: float64"
      ]
     },
     "execution_count": 110,
     "metadata": {},
     "output_type": "execute_result"
    }
   ],
   "source": [
    "#getting specific runtime \n",
    "df['runtime'].describe()"
   ]
  },
  {
   "cell_type": "markdown",
   "metadata": {},
   "source": [
    ">The average runtime of a movie is 109 minutes.\n"
   ]
  },
  {
   "cell_type": "markdown",
   "metadata": {},
   "source": [
    "### Graphical Approach"
   ]
  },
  {
   "cell_type": "code",
   "execution_count": 111,
   "metadata": {},
   "outputs": [
    {
     "data": {
      "image/png": "[encoded data removed]",
      "text/plain": [
       "<Figure size 900x500 with 1 Axes>"
      ]
     },
     "metadata": {
      "needs_background": "light"
     },
     "output_type": "display_data"
    }
   ],
   "source": [
    "#plotting a histogram of runtime of movies\n",
    "\n",
    "#giving the figure size(width, height)\n",
    "plt.figure(figsize=(9,5), dpi = 100)\n",
    "\n",
    "#On x-axis \n",
    "plt.xlabel('Runtime of the Movies', fontsize = 15)\n",
    "#On y-axis \n",
    "plt.ylabel('No. of Movies in the Dataset', fontsize=15)\n",
    "#Name of the graph\n",
    "plt.title('Runtime of all the movies', fontsize=15)\n",
    "\n",
    "#giving a histogram plot\n",
    "plt.hist(df['runtime'], rwidth = 0.9, bins =35)\n",
    "#displays the plot\n",
    "plt.show()"
   ]
  },
  {
   "cell_type": "code",
   "execution_count": 112,
   "metadata": {
    "scrolled": true
   },
   "outputs": [
    {
     "data": {
      "image/png": "[encoded data removed]",
      "text/plain": [
       "<Figure size 648x504 with 1 Axes>"
      ]
     },
     "metadata": {
      "needs_background": "light"
     },
     "output_type": "display_data"
    }
   ],
   "source": [
    "df['runtime'].plot(kind='box', figsize=(9,7));"
   ]
  },
  {
   "cell_type": "markdown",
   "metadata": {},
   "source": [
    ">By looking at the box plot and calculations, we can conclude that..\n",
    ">\n",
    "> 1. 25% of movies have a runtime of less than 95 minutes\n",
    "> 2. 50% of movies have a runtime of less than 109 minutes. (median)\n",
    "> 3. 75% of movies have a runtime of less than 119 minutes\n"
   ]
  },
  {
   "cell_type": "markdown",
   "metadata": {},
   "source": [
    "**Vote_count**"
   ]
  },
  {
   "cell_type": "code",
   "execution_count": 113,
   "metadata": {},
   "outputs": [
    {
     "data": {
      "text/plain": [
       "count    3854.000000\n",
       "mean      527.720291\n",
       "std       879.956821\n",
       "min        10.000000\n",
       "25%        71.000000\n",
       "50%       204.000000\n",
       "75%       580.000000\n",
       "max      9767.000000\n",
       "Name: vote_count, dtype: float64"
      ]
     },
     "execution_count": 113,
     "metadata": {},
     "output_type": "execute_result"
    }
   ],
   "source": [
    "#getting specific vote_count \n",
    "df['vote_count'].describe()"
   ]
  },
  {
   "cell_type": "markdown",
   "metadata": {},
   "source": [
    ">The average vote count of a movie is 527.720291 .\n"
   ]
  },
  {
   "cell_type": "markdown",
   "metadata": {},
   "source": [
    "### Graphical Approach "
   ]
  },
  {
   "cell_type": "code",
   "execution_count": 114,
   "metadata": {},
   "outputs": [
    {
     "data": {
      "image/png": "[encoded data removed]",
      "text/plain": [
       "<Figure size 900x500 with 1 Axes>"
      ]
     },
     "metadata": {
      "needs_background": "light"
     },
     "output_type": "display_data"
    }
   ],
   "source": [
    "#plotting a histogram of vote count of movies\n",
    "\n",
    "#giving the figure size(width, height)\n",
    "plt.figure(figsize=(9,5), dpi = 100)\n",
    "\n",
    "#On x-axis \n",
    "plt.xlabel('vote count of the Movies', fontsize = 15)\n",
    "#On y-axis \n",
    "plt.ylabel('No. of Movies in the Dataset', fontsize=15)\n",
    "#Name of the graph\n",
    "plt.title('Vote count of all the movies', fontsize=15)\n",
    "\n",
    "#giving a histogram plot\n",
    "plt.hist(df['vote_count'], rwidth = 0.9, bins =35)\n",
    "#displays the plot\n",
    "plt.show()"
   ]
  },
  {
   "cell_type": "code",
   "execution_count": 115,
   "metadata": {},
   "outputs": [
    {
     "data": {
      "image/png": "[encoded data removed]",
      "text/plain": [
       "<Figure size 648x504 with 1 Axes>"
      ]
     },
     "metadata": {
      "needs_background": "light"
     },
     "output_type": "display_data"
    }
   ],
   "source": [
    "df['vote_count'].plot(kind='box', figsize=(9,7));"
   ]
  },
  {
   "cell_type": "markdown",
   "metadata": {},
   "source": [
    ">By looking at the box plot and calculations, we can conclude that..\n",
    ">\n",
    "> 1. 25% of movies have a vote count of 71.000000 .\n",
    "> 2. 50% of movies have a vote count of 204.000000 . (median)\n",
    "> 3. 75% of movies have a vote count of 580.000000 .\n"
   ]
  },
  {
   "cell_type": "markdown",
   "metadata": {},
   "source": [
    "**Vote_average**"
   ]
  },
  {
   "cell_type": "code",
   "execution_count": 116,
   "metadata": {},
   "outputs": [
    {
     "data": {
      "text/plain": [
       "count    3854.000000\n",
       "mean        6.168163\n",
       "std         0.794920\n",
       "min         2.200000\n",
       "25%         5.700000\n",
       "50%         6.200000\n",
       "75%         6.700000\n",
       "max         8.400000\n",
       "Name: vote_average, dtype: float64"
      ]
     },
     "execution_count": 116,
     "metadata": {},
     "output_type": "execute_result"
    }
   ],
   "source": [
    "#getting specific popularity \n",
    "df['vote_average'].describe()"
   ]
  },
  {
   "cell_type": "markdown",
   "metadata": {},
   "source": [
    ">The average vote average of a movie is 6.168163 .\n"
   ]
  },
  {
   "cell_type": "markdown",
   "metadata": {},
   "source": [
    "### Graphical Approach "
   ]
  },
  {
   "cell_type": "code",
   "execution_count": 117,
   "metadata": {},
   "outputs": [
    {
     "data": {
      "image/png": "[encoded data removed]",
      "text/plain": [
       "<Figure size 900x500 with 1 Axes>"
      ]
     },
     "metadata": {
      "needs_background": "light"
     },
     "output_type": "display_data"
    }
   ],
   "source": [
    "#plotting a histogram of vote average of movies\n",
    "\n",
    "#giving the figure size(width, height)\n",
    "plt.figure(figsize=(9,5), dpi = 100)\n",
    "\n",
    "#On x-axis \n",
    "plt.xlabel('vote average of the Movies', fontsize = 15)\n",
    "#On y-axis \n",
    "plt.ylabel('No. of Movies in the Dataset', fontsize=15)\n",
    "#Name of the graph\n",
    "plt.title('Vote average of all the movies', fontsize=15)\n",
    "\n",
    "#giving a histogram plot\n",
    "plt.hist(df['vote_average'], rwidth = 0.9, bins =35)\n",
    "#displays the plot\n",
    "plt.show()"
   ]
  },
  {
   "cell_type": "code",
   "execution_count": 118,
   "metadata": {},
   "outputs": [
    {
     "data": {
      "image/png": "[encoded data removed]",
      "text/plain": [
       "<Figure size 648x504 with 1 Axes>"
      ]
     },
     "metadata": {
      "needs_background": "light"
     },
     "output_type": "display_data"
    }
   ],
   "source": [
    "df['vote_average'].plot(kind='box', figsize=(9,7));"
   ]
  },
  {
   "cell_type": "markdown",
   "metadata": {},
   "source": [
    ">By looking at the box plot and calculations, we can conclude that..\n",
    ">\n",
    "> 1. 25% of movies have a vote average of 5.700000 .\n",
    "> 2. 50% of movies have a vote average of 6.200000 . (median)\n",
    "> 3. 75% of movies have a vote average of 6.700000 .\n"
   ]
  },
  {
   "cell_type": "markdown",
   "metadata": {},
   "source": [
    "**Budget**"
   ]
  },
  {
   "cell_type": "code",
   "execution_count": 119,
   "metadata": {},
   "outputs": [
    {
     "data": {
      "text/plain": [
       "count    3.854000e+03\n",
       "mean     4.423999e+07\n",
       "std      4.480925e+07\n",
       "min      9.693980e-01\n",
       "25%      1.309053e+07\n",
       "50%      3.001611e+07\n",
       "75%      6.061307e+07\n",
       "max      4.250000e+08\n",
       "Name: budget_adj, dtype: float64"
      ]
     },
     "execution_count": 119,
     "metadata": {},
     "output_type": "execute_result"
    }
   ],
   "source": [
    "#getting specific popularity \n",
    "df['budget_adj'].describe()"
   ]
  },
  {
   "cell_type": "markdown",
   "metadata": {},
   "source": [
    ">The average budget of a movie is 4.423999e+07 .\n"
   ]
  },
  {
   "cell_type": "markdown",
   "metadata": {},
   "source": [
    "### Graphical Approach"
   ]
  },
  {
   "cell_type": "code",
   "execution_count": 120,
   "metadata": {},
   "outputs": [
    {
     "data": {
      "image/png": "[encoded data removed]",
      "text/plain": [
       "<Figure size 900x500 with 1 Axes>"
      ]
     },
     "metadata": {
      "needs_background": "light"
     },
     "output_type": "display_data"
    }
   ],
   "source": [
    "#plotting a histogram of budget of movies\n",
    "\n",
    "#giving the figure size(width, height)\n",
    "plt.figure(figsize=(9,5), dpi = 100)\n",
    "\n",
    "#On x-axis \n",
    "plt.xlabel('Budget of the Movies', fontsize = 15)\n",
    "#On y-axis \n",
    "plt.ylabel('No. of Movies in the Dataset', fontsize=15)\n",
    "#Name of the graph\n",
    "plt.title('Budget of all the movies', fontsize=15)\n",
    "\n",
    "#giving a histogram plot\n",
    "plt.hist(df['budget_adj'], rwidth = 0.9, bins =35)\n",
    "#displays the plot\n",
    "plt.show()"
   ]
  },
  {
   "cell_type": "code",
   "execution_count": 121,
   "metadata": {},
   "outputs": [
    {
     "data": {
      "image/png": "[encoded data removed]",
      "text/plain": [
       "<Figure size 648x504 with 1 Axes>"
      ]
     },
     "metadata": {
      "needs_background": "light"
     },
     "output_type": "display_data"
    }
   ],
   "source": [
    "df['budget_adj'].plot(kind='box', figsize=(9,7));"
   ]
  },
  {
   "cell_type": "markdown",
   "metadata": {},
   "source": [
    ">By looking at the box plot and calculations, we can conclude that..\n",
    ">\n",
    "> 1. 25% of movies have a budget of 1.309053e+07 .\n",
    "> 2. 50% of movies have a budget of 3.001611e+07 . (median)\n",
    "> 3. 75% of movies have a budget of 6.061307e+07 .\n"
   ]
  },
  {
   "cell_type": "markdown",
   "metadata": {},
   "source": [
    "**Revenue**"
   ]
  },
  {
   "cell_type": "code",
   "execution_count": 122,
   "metadata": {},
   "outputs": [
    {
     "data": {
      "text/plain": [
       "count    3.854000e+03\n",
       "mean     1.370647e+08\n",
       "std      2.161114e+08\n",
       "min      2.370705e+00\n",
       "25%      1.835735e+07\n",
       "50%      6.173068e+07\n",
       "75%      1.632577e+08\n",
       "max      2.827124e+09\n",
       "Name: revenue_adj, dtype: float64"
      ]
     },
     "execution_count": 122,
     "metadata": {},
     "output_type": "execute_result"
    }
   ],
   "source": [
    "#getting specific popularity \n",
    "df['revenue_adj'].describe()"
   ]
  },
  {
   "cell_type": "markdown",
   "metadata": {},
   "source": [
    ">The average revenue of a movie is 1.370647e+08 .\n"
   ]
  },
  {
   "cell_type": "markdown",
   "metadata": {},
   "source": [
    "### Graphical Approach"
   ]
  },
  {
   "cell_type": "code",
   "execution_count": 123,
   "metadata": {},
   "outputs": [
    {
     "data": {
      "image/png": "[encoded data removed]",
      "text/plain": [
       "<Figure size 900x500 with 1 Axes>"
      ]
     },
     "metadata": {
      "needs_background": "light"
     },
     "output_type": "display_data"
    }
   ],
   "source": [
    "#plotting a histogram of revenue of movies\n",
    "\n",
    "#giving the figure size(width, height)\n",
    "plt.figure(figsize=(9,5), dpi = 100)\n",
    "\n",
    "#On x-axis \n",
    "plt.xlabel('Revenue of the Movies', fontsize = 15)\n",
    "#On y-axis \n",
    "plt.ylabel('No. of Movies in the Dataset', fontsize=15)\n",
    "#Name of the graph\n",
    "plt.title('Revenue of all the movies', fontsize=15)\n",
    "\n",
    "#giving a histogram plot\n",
    "plt.hist(df['revenue_adj'], rwidth = 0.9, bins =35)\n",
    "#displays the plot\n",
    "plt.show()"
   ]
  },
  {
   "cell_type": "code",
   "execution_count": 124,
   "metadata": {},
   "outputs": [
    {
     "data": {
      "image/png": "[encoded data removed]",
      "text/plain": [
       "<Figure size 648x504 with 1 Axes>"
      ]
     },
     "metadata": {
      "needs_background": "light"
     },
     "output_type": "display_data"
    }
   ],
   "source": [
    "df['revenue_adj'].plot(kind='box', figsize=(9,7));"
   ]
  },
  {
   "cell_type": "markdown",
   "metadata": {},
   "source": [
    ">By looking at the box plot and calculations, we can conclude that..\n",
    ">\n",
    "> 1. 25% of movies have a revenue of 1.835735e+07 .\n",
    "> 2. 50% of movies have a revenue of 6.173068e+07 . (median)\n",
    "> 3. 75% of movies have a revenue of 1.632577e+08 .\n"
   ]
  },
  {
   "cell_type": "markdown",
   "metadata": {},
   "source": [
    "**Profit earned **"
   ]
  },
  {
   "cell_type": "code",
   "execution_count": 125,
   "metadata": {},
   "outputs": [
    {
     "data": {
      "text/plain": [
       "count    3.854000e+03\n",
       "mean     9.282470e+07\n",
       "std      1.940715e+08\n",
       "min     -4.139124e+08\n",
       "25%     -1.504995e+06\n",
       "50%      2.737064e+07\n",
       "75%      1.074548e+08\n",
       "max      2.750137e+09\n",
       "Name: profit_earned, dtype: float64"
      ]
     },
     "execution_count": 125,
     "metadata": {},
     "output_type": "execute_result"
    }
   ],
   "source": [
    "#getting specific popularity \n",
    "df['profit_earned'].describe()"
   ]
  },
  {
   "cell_type": "markdown",
   "metadata": {},
   "source": [
    ">The average profit earned of a movie is  9.282470e+07."
   ]
  },
  {
   "cell_type": "markdown",
   "metadata": {},
   "source": [
    "### Graphical Approach"
   ]
  },
  {
   "cell_type": "code",
   "execution_count": 126,
   "metadata": {},
   "outputs": [
    {
     "data": {
      "image/png": "[encoded data removed]",
      "text/plain": [
       "<Figure size 900x500 with 1 Axes>"
      ]
     },
     "metadata": {
      "needs_background": "light"
     },
     "output_type": "display_data"
    }
   ],
   "source": [
    "#plotting a histogram of profit earned of movies\n",
    "\n",
    "#giving the figure size(width, height)\n",
    "plt.figure(figsize=(9,5), dpi = 100)\n",
    "\n",
    "#On x-axis \n",
    "plt.xlabel('profit earned of the Movies', fontsize = 15)\n",
    "#On y-axis \n",
    "plt.ylabel('No. of Movies in the Dataset', fontsize=15)\n",
    "#Name of the graph\n",
    "plt.title('profit earned of all the movies', fontsize=15)\n",
    "\n",
    "#giving a histogram plot\n",
    "plt.hist(df['profit_earned'], rwidth = 0.9, bins =35)\n",
    "#displays the plot\n",
    "plt.show()"
   ]
  },
  {
   "cell_type": "code",
   "execution_count": 127,
   "metadata": {},
   "outputs": [
    {
     "data": {
      "image/png": "[encoded data removed]",
      "text/plain": [
       "<Figure size 648x504 with 1 Axes>"
      ]
     },
     "metadata": {
      "needs_background": "light"
     },
     "output_type": "display_data"
    }
   ],
   "source": [
    "df['profit_earned'].plot(kind='box', figsize=(9,7));"
   ]
  },
  {
   "cell_type": "markdown",
   "metadata": {},
   "source": [
    ">By looking at the box plot and calculations, we can conclude that..\n",
    ">\n",
    "> 1. 25% of movies have a profit earned  of -1.504995e+06 .\n",
    "> 2. 50% of movies have a profit earned  of 2.737064e+07 . (median)\n",
    "> 3. 75% of movies have a profit earned  of 1.074548e+08 .\n"
   ]
  },
  {
   "cell_type": "markdown",
   "metadata": {},
   "source": [
    "### Research Question 9 : What is the year in which we had most number of profitable movies ?"
   ]
  },
  {
   "cell_type": "code",
   "execution_count": 128,
   "metadata": {},
   "outputs": [
    {
     "data": {
      "image/png": "[encoded data removed]",
      "text/plain": [
       "<Figure size 720x720 with 1 Axes>"
      ]
     },
     "metadata": {
      "needs_background": "light"
     },
     "output_type": "display_data"
    }
   ],
   "source": [
    "profits_year = df.groupby('release_year')['profit_earned'].sum()\n",
    "profits_year.plot(kind = 'bar', figsize = (10,10));"
   ]
  },
  {
   "cell_type": "code",
   "execution_count": 129,
   "metadata": {},
   "outputs": [
    {
     "data": {
      "text/plain": [
       "2015"
      ]
     },
     "execution_count": 129,
     "metadata": {},
     "output_type": "execute_result"
    }
   ],
   "source": [
    "#To find that which year made the highest profit?\n",
    "profits_year.idxmax()"
   ]
  },
  {
   "cell_type": "markdown",
   "metadata": {},
   "source": [
    "> From the plot and calculations '2015' was the year where movies made the highest profit.\n",
    "\n",
    "\n"
   ]
  },
  {
   "cell_type": "markdown",
   "metadata": {},
   "source": [
    "### Research Question 10 : What are the most common genres of movies ?"
   ]
  },
  {
   "cell_type": "code",
   "execution_count": 130,
   "metadata": {},
   "outputs": [
    {
     "data": {
      "text/plain": [
       "Drama              1756\n",
       "Comedy             1358\n",
       "Thriller           1204\n",
       "Action             1085\n",
       "Adventure           749\n",
       "Romance             667\n",
       "Crime               651\n",
       "Science Fiction     519\n",
       "Horror              463\n",
       "Family              425\n",
       "Fantasy             396\n",
       "Mystery             344\n",
       "Animation           201\n",
       "Music               136\n",
       "History             129\n",
       "War                 119\n",
       "Western              52\n",
       "Documentary          35\n",
       "Foreign              13\n",
       "TV Movie              1\n",
       "dtype: int64"
      ]
     },
     "execution_count": 130,
     "metadata": {},
     "output_type": "execute_result"
    }
   ],
   "source": [
    "#will take a column, and separate the string by '|'\n",
    "df1 = df['genres'].str.cat(sep = '|')\n",
    "    \n",
    "#giving pandas series and storing the values separately\n",
    "df1 = pd.Series(df1.split('|'))\n",
    "    \n",
    "#arranging in descending order\n",
    "count = df1.value_counts(ascending = False)\n",
    "count"
   ]
  },
  {
   "cell_type": "markdown",
   "metadata": {},
   "source": [
    "### Graphical Approach"
   ]
  },
  {
   "cell_type": "code",
   "execution_count": 131,
   "metadata": {},
   "outputs": [
    {
     "data": {
      "image/png": "[encoded data removed]",
      "text/plain": [
       "<Figure size 720x720 with 1 Axes>"
      ]
     },
     "metadata": {
      "needs_background": "light"
     },
     "output_type": "display_data"
    }
   ],
   "source": [
    "count.plot(kind='bar', figsize = (10,10));"
   ]
  },
  {
   "cell_type": "markdown",
   "metadata": {},
   "source": [
    "'Drama' is the most common genres of movies with '1756' movies."
   ]
  },
  {
   "cell_type": "markdown",
   "metadata": {},
   "source": [
    "### Research Question 11 : What is the most frequent cast ?"
   ]
  },
  {
   "cell_type": "code",
   "execution_count": 132,
   "metadata": {},
   "outputs": [
    {
     "data": {
      "text/plain": [
       "Robert De Niro       52\n",
       "Bruce Willis         46\n",
       "Samuel L. Jackson    44\n",
       "Nicolas Cage         43\n",
       "Matt Damon           36\n",
       "dtype: int64"
      ]
     },
     "execution_count": 132,
     "metadata": {},
     "output_type": "execute_result"
    }
   ],
   "source": [
    "#will take a column, and separate the string by '|'\n",
    "df1 = df['cast'].str.cat(sep = '|')\n",
    "    \n",
    "#giving pandas series and storing the values separately\n",
    "df1 = pd.Series(df1.split('|'))\n",
    "    \n",
    "#arranging in descending order\n",
    "count = df1.value_counts(ascending = False)\n",
    "count.head()"
   ]
  },
  {
   "cell_type": "markdown",
   "metadata": {},
   "source": [
    "> The most frequent cast are 'Robert De Niro' with 52 cast followed by 'Bruce Willis' with 46 and 'Samuel L. Jackson' with 44.  "
   ]
  },
  {
   "cell_type": "markdown",
   "metadata": {},
   "source": [
    "### Research Question 12 : What is the most frequant production companies ?"
   ]
  },
  {
   "cell_type": "code",
   "execution_count": 133,
   "metadata": {},
   "outputs": [
    {
     "data": {
      "text/plain": [
       "Universal Pictures                        329\n",
       "Warner Bros.                              324\n",
       "Paramount Pictures                        270\n",
       "Twentieth Century Fox Film Corporation    201\n",
       "Columbia Pictures                         178\n",
       "dtype: int64"
      ]
     },
     "execution_count": 133,
     "metadata": {},
     "output_type": "execute_result"
    }
   ],
   "source": [
    "#will take a column, and separate the string by '|'\n",
    "df1 = df['production_companies'].str.cat(sep = '|')\n",
    "    \n",
    "#giving pandas series and storing the values separately\n",
    "df1 = pd.Series(df1.split('|'))\n",
    "    \n",
    "#arranging in descending order\n",
    "count = df1.value_counts(ascending = False)\n",
    "count.head()"
   ]
  },
  {
   "cell_type": "markdown",
   "metadata": {},
   "source": [
    "'Universal Pictures' is the most frequant production company of movies with '329' movies."
   ]
  },
  {
   "cell_type": "markdown",
   "metadata": {},
   "source": [
    "### Research Question 13 : What is the most frequant director ?"
   ]
  },
  {
   "cell_type": "code",
   "execution_count": 134,
   "metadata": {},
   "outputs": [
    {
     "data": {
      "text/plain": [
       "Steven Spielberg    28\n",
       "Clint Eastwood      24\n",
       "Ridley Scott        21\n",
       "Woody Allen         18\n",
       "Tim Burton          17\n",
       "dtype: int64"
      ]
     },
     "execution_count": 134,
     "metadata": {},
     "output_type": "execute_result"
    }
   ],
   "source": [
    "#will take a column, and separate the string by '|'\n",
    "df1 = df['director'].str.cat(sep = '|')\n",
    "    \n",
    "#giving pandas series and storing the values separately\n",
    "df1 = pd.Series(df1.split('|'))\n",
    "    \n",
    "#arranging in descending order\n",
    "count = df1.value_counts(ascending = False)\n",
    "count.head()"
   ]
  },
  {
   "cell_type": "markdown",
   "metadata": {},
   "source": [
    "'Steven Spielberg' is the most frequant director of movies with '28' movies."
   ]
  },
  {
   "cell_type": "markdown",
   "metadata": {},
   "source": [
    "### Research Question 14 : Which genres are most popular from year to year?"
   ]
  },
  {
   "cell_type": "code",
   "execution_count": 135,
   "metadata": {},
   "outputs": [],
   "source": [
    "arr = df['release_year'].unique()"
   ]
  },
  {
   "cell_type": "code",
   "execution_count": 136,
   "metadata": {},
   "outputs": [],
   "source": [
    "arr.sort()"
   ]
  },
  {
   "cell_type": "code",
   "execution_count": 137,
   "metadata": {},
   "outputs": [
    {
     "data": {
      "text/plain": [
       "array([1960, 1961, 1962, 1963, 1964, 1965, 1966, 1967, 1968, 1969, 1970,\n",
       "       1971, 1972, 1973, 1974, 1975, 1976, 1977, 1978, 1979, 1980, 1981,\n",
       "       1982, 1983, 1984, 1985, 1986, 1987, 1988, 1989, 1990, 1991, 1992,\n",
       "       1993, 1994, 1995, 1996, 1997, 1998, 1999, 2000, 2001, 2002, 2003,\n",
       "       2004, 2005, 2006, 2007, 2008, 2009, 2010, 2011, 2012, 2013, 2014,\n",
       "       2015], dtype=int64)"
      ]
     },
     "execution_count": 137,
     "metadata": {},
     "output_type": "execute_result"
    }
   ],
   "source": [
    "arr"
   ]
  },
  {
   "cell_type": "code",
   "execution_count": 138,
   "metadata": {
    "scrolled": true
   },
   "outputs": [
    {
     "name": "stdout",
     "output_type": "stream",
     "text": [
      "The genres that are more common in 1960 is Drama    3\n",
      "dtype: int64\n",
      "The genres that are more common in 1961 is Drama    6\n",
      "dtype: int64\n",
      "The genres that are more common in 1962 is Drama    5\n",
      "dtype: int64\n",
      "The genres that are more common in 1963 is Thriller    3\n",
      "dtype: int64\n",
      "The genres that are more common in 1964 is Drama    4\n",
      "dtype: int64\n",
      "The genres that are more common in 1965 is Drama    3\n",
      "dtype: int64\n",
      "The genres that are more common in 1966 is Drama    2\n",
      "dtype: int64\n",
      "The genres that are more common in 1967 is Drama    7\n",
      "dtype: int64\n",
      "The genres that are more common in 1968 is Drama    6\n",
      "dtype: int64\n",
      "The genres that are more common in 1969 is Adventure    2\n",
      "dtype: int64\n",
      "The genres that are more common in 1970 is Drama    7\n",
      "dtype: int64\n",
      "The genres that are more common in 1971 is Thriller    8\n",
      "dtype: int64\n",
      "The genres that are more common in 1972 is Drama    3\n",
      "dtype: int64\n",
      "The genres that are more common in 1973 is Drama    7\n",
      "dtype: int64\n",
      "The genres that are more common in 1974 is Drama    8\n",
      "dtype: int64\n",
      "The genres that are more common in 1975 is Drama    5\n",
      "dtype: int64\n",
      "The genres that are more common in 1976 is Drama    7\n",
      "dtype: int64\n",
      "The genres that are more common in 1977 is Drama    9\n",
      "dtype: int64\n",
      "The genres that are more common in 1978 is Drama    7\n",
      "dtype: int64\n",
      "The genres that are more common in 1979 is Drama    7\n",
      "dtype: int64\n",
      "The genres that are more common in 1980 is Drama    8\n",
      "dtype: int64\n",
      "The genres that are more common in 1981 is Comedy    9\n",
      "dtype: int64\n",
      "The genres that are more common in 1982 is Drama    12\n",
      "dtype: int64\n",
      "The genres that are more common in 1983 is Thriller    13\n",
      "dtype: int64\n",
      "The genres that are more common in 1984 is Action    16\n",
      "dtype: int64\n",
      "The genres that are more common in 1985 is Comedy    19\n",
      "dtype: int64\n",
      "The genres that are more common in 1986 is Drama    19\n",
      "dtype: int64\n",
      "The genres that are more common in 1987 is Comedy    23\n",
      "dtype: int64\n",
      "The genres that are more common in 1988 is Comedy    25\n",
      "dtype: int64\n",
      "The genres that are more common in 1989 is Comedy    24\n",
      "dtype: int64\n",
      "The genres that are more common in 1990 is Drama    22\n",
      "dtype: int64\n",
      "The genres that are more common in 1991 is Comedy    22\n",
      "dtype: int64\n",
      "The genres that are more common in 1992 is Drama    27\n",
      "dtype: int64\n",
      "The genres that are more common in 1993 is Drama    36\n",
      "dtype: int64\n",
      "The genres that are more common in 1994 is Comedy    27\n",
      "dtype: int64\n",
      "The genres that are more common in 1995 is Drama    42\n",
      "dtype: int64\n",
      "The genres that are more common in 1996 is Drama    47\n",
      "dtype: int64\n",
      "The genres that are more common in 1997 is Thriller    40\n",
      "dtype: int64\n",
      "The genres that are more common in 1998 is Drama    45\n",
      "dtype: int64\n",
      "The genres that are more common in 1999 is Comedy    56\n",
      "dtype: int64\n",
      "The genres that are more common in 2000 is Drama    45\n",
      "dtype: int64\n",
      "The genres that are more common in 2001 is Comedy    51\n",
      "dtype: int64\n",
      "The genres that are more common in 2002 is Drama    64\n",
      "dtype: int64\n",
      "The genres that are more common in 2003 is Comedy    45\n",
      "dtype: int64\n",
      "The genres that are more common in 2004 is Drama    62\n",
      "dtype: int64\n",
      "The genres that are more common in 2005 is Drama    82\n",
      "dtype: int64\n",
      "The genres that are more common in 2006 is Drama    89\n",
      "dtype: int64\n",
      "The genres that are more common in 2007 is Drama    75\n",
      "dtype: int64\n",
      "The genres that are more common in 2008 is Drama    81\n",
      "dtype: int64\n",
      "The genres that are more common in 2009 is Drama    83\n",
      "dtype: int64\n",
      "The genres that are more common in 2010 is Drama    84\n",
      "dtype: int64\n",
      "The genres that are more common in 2011 is Drama    89\n",
      "dtype: int64\n",
      "The genres that are more common in 2012 is Drama    66\n",
      "dtype: int64\n",
      "The genres that are more common in 2013 is Drama    80\n",
      "dtype: int64\n",
      "The genres that are more common in 2014 is Drama    79\n",
      "dtype: int64\n",
      "The genres that are more common in 2015 is Drama    81\n",
      "dtype: int64\n"
     ]
    }
   ],
   "source": [
    "for x in arr:\n",
    "    df1 = df.query(f\"release_year == {x}\")\n",
    "    #will take a column, and separate the string by '|'\n",
    "    df2 = df1['genres'].str.cat(sep = '|')\n",
    "\n",
    "    #giving pandas series and storing the values separately\n",
    "    df2 = pd.Series(df2.split('|'))\n",
    "\n",
    "    #arranging in descending order\n",
    "    count = df2.value_counts(ascending = False)\n",
    "    print(f\"The genres that are more common in {x} is {count.head(1)}\")"
   ]
  },
  {
   "cell_type": "markdown",
   "metadata": {},
   "source": [
    "### Research Question 15 : What kinds of properties are associated with movies that have high revenues ?"
   ]
  },
  {
   "cell_type": "code",
   "execution_count": 139,
   "metadata": {},
   "outputs": [
    {
     "data": {
      "text/html": [
       "<div>\n",
       "<style scoped>\n",
       "    .dataframe tbody tr th:only-of-type {\n",
       "        vertical-align: middle;\n",
       "    }\n",
       "\n",
       "    .dataframe tbody tr th {\n",
       "        vertical-align: top;\n",
       "    }\n",
       "\n",
       "    .dataframe thead th {\n",
       "        text-align: right;\n",
       "    }\n",
       "</style>\n",
       "<table border=\"1\" class=\"dataframe\">\n",
       "  <thead>\n",
       "    <tr style=\"text-align: right;\">\n",
       "      <th></th>\n",
       "      <th>popularity</th>\n",
       "      <th>original_title</th>\n",
       "      <th>cast</th>\n",
       "      <th>director</th>\n",
       "      <th>tagline</th>\n",
       "      <th>runtime</th>\n",
       "      <th>genres</th>\n",
       "      <th>production_companies</th>\n",
       "      <th>release_date</th>\n",
       "      <th>vote_count</th>\n",
       "      <th>vote_average</th>\n",
       "      <th>release_year</th>\n",
       "      <th>budget_adj</th>\n",
       "      <th>revenue_adj</th>\n",
       "      <th>profit_earned</th>\n",
       "    </tr>\n",
       "  </thead>\n",
       "  <tbody>\n",
       "    <tr>\n",
       "      <th>1</th>\n",
       "      <td>32.985763</td>\n",
       "      <td>Jurassic World</td>\n",
       "      <td>Chris Pratt|Bryce Dallas Howard|Irrfan Khan|Vi...</td>\n",
       "      <td>Colin Trevorrow</td>\n",
       "      <td>The park is open.</td>\n",
       "      <td>124</td>\n",
       "      <td>Action|Adventure|Science Fiction|Thriller</td>\n",
       "      <td>Universal Studios|Amblin Entertainment|Legenda...</td>\n",
       "      <td>2015-06-09</td>\n",
       "      <td>5562</td>\n",
       "      <td>6.5</td>\n",
       "      <td>2015</td>\n",
       "      <td>1.379999e+08</td>\n",
       "      <td>1.392446e+09</td>\n",
       "      <td>1.254446e+09</td>\n",
       "    </tr>\n",
       "    <tr>\n",
       "      <th>2</th>\n",
       "      <td>11.173104</td>\n",
       "      <td>Star Wars: The Force Awakens</td>\n",
       "      <td>Harrison Ford|Mark Hamill|Carrie Fisher|Adam D...</td>\n",
       "      <td>J.J. Abrams</td>\n",
       "      <td>Every generation has a story.</td>\n",
       "      <td>136</td>\n",
       "      <td>Action|Adventure|Science Fiction|Fantasy</td>\n",
       "      <td>Lucasfilm|Truenorth Productions|Bad Robot</td>\n",
       "      <td>2015-12-15</td>\n",
       "      <td>5292</td>\n",
       "      <td>7.5</td>\n",
       "      <td>2015</td>\n",
       "      <td>1.839999e+08</td>\n",
       "      <td>1.902723e+09</td>\n",
       "      <td>1.718723e+09</td>\n",
       "    </tr>\n",
       "    <tr>\n",
       "      <th>3</th>\n",
       "      <td>9.335014</td>\n",
       "      <td>Furious 7</td>\n",
       "      <td>Vin Diesel|Paul Walker|Jason Statham|Michelle ...</td>\n",
       "      <td>James Wan</td>\n",
       "      <td>Vengeance Hits Home</td>\n",
       "      <td>137</td>\n",
       "      <td>Action|Crime|Thriller</td>\n",
       "      <td>Universal Pictures|Original Film|Media Rights ...</td>\n",
       "      <td>2015-04-01</td>\n",
       "      <td>2947</td>\n",
       "      <td>7.3</td>\n",
       "      <td>2015</td>\n",
       "      <td>1.747999e+08</td>\n",
       "      <td>1.385749e+09</td>\n",
       "      <td>1.210949e+09</td>\n",
       "    </tr>\n",
       "    <tr>\n",
       "      <th>4</th>\n",
       "      <td>7.404165</td>\n",
       "      <td>Minions</td>\n",
       "      <td>Sandra Bullock|Jon Hamm|Michael Keaton|Allison...</td>\n",
       "      <td>Kyle Balda|Pierre Coffin</td>\n",
       "      <td>Before Gru, they had a history of bad bosses</td>\n",
       "      <td>91</td>\n",
       "      <td>Family|Animation|Adventure|Comedy</td>\n",
       "      <td>Universal Pictures|Illumination Entertainment</td>\n",
       "      <td>2015-06-17</td>\n",
       "      <td>2893</td>\n",
       "      <td>6.5</td>\n",
       "      <td>2015</td>\n",
       "      <td>6.807997e+07</td>\n",
       "      <td>1.064192e+09</td>\n",
       "      <td>9.961120e+08</td>\n",
       "    </tr>\n",
       "    <tr>\n",
       "      <th>5</th>\n",
       "      <td>5.944927</td>\n",
       "      <td>Avengers: Age of Ultron</td>\n",
       "      <td>Robert Downey Jr.|Chris Hemsworth|Mark Ruffalo...</td>\n",
       "      <td>Joss Whedon</td>\n",
       "      <td>A New Age Has Come.</td>\n",
       "      <td>141</td>\n",
       "      <td>Action|Adventure|Science Fiction</td>\n",
       "      <td>Marvel Studios|Prime Focus|Revolution Sun Studios</td>\n",
       "      <td>2015-04-22</td>\n",
       "      <td>4304</td>\n",
       "      <td>7.4</td>\n",
       "      <td>2015</td>\n",
       "      <td>2.575999e+08</td>\n",
       "      <td>1.292632e+09</td>\n",
       "      <td>1.035032e+09</td>\n",
       "    </tr>\n",
       "  </tbody>\n",
       "</table>\n",
       "</div>"
      ],
      "text/plain": [
       "   popularity                original_title  \\\n",
       "1   32.985763                Jurassic World   \n",
       "2   11.173104  Star Wars: The Force Awakens   \n",
       "3    9.335014                     Furious 7   \n",
       "4    7.404165                       Minions   \n",
       "5    5.944927       Avengers: Age of Ultron   \n",
       "\n",
       "                                                cast  \\\n",
       "1  Chris Pratt|Bryce Dallas Howard|Irrfan Khan|Vi...   \n",
       "2  Harrison Ford|Mark Hamill|Carrie Fisher|Adam D...   \n",
       "3  Vin Diesel|Paul Walker|Jason Statham|Michelle ...   \n",
       "4  Sandra Bullock|Jon Hamm|Michael Keaton|Allison...   \n",
       "5  Robert Downey Jr.|Chris Hemsworth|Mark Ruffalo...   \n",
       "\n",
       "                   director                                       tagline  \\\n",
       "1           Colin Trevorrow                             The park is open.   \n",
       "2               J.J. Abrams                 Every generation has a story.   \n",
       "3                 James Wan                           Vengeance Hits Home   \n",
       "4  Kyle Balda|Pierre Coffin  Before Gru, they had a history of bad bosses   \n",
       "5               Joss Whedon                           A New Age Has Come.   \n",
       "\n",
       "   runtime                                     genres  \\\n",
       "1      124  Action|Adventure|Science Fiction|Thriller   \n",
       "2      136   Action|Adventure|Science Fiction|Fantasy   \n",
       "3      137                      Action|Crime|Thriller   \n",
       "4       91          Family|Animation|Adventure|Comedy   \n",
       "5      141           Action|Adventure|Science Fiction   \n",
       "\n",
       "                                production_companies release_date  vote_count  \\\n",
       "1  Universal Studios|Amblin Entertainment|Legenda...   2015-06-09        5562   \n",
       "2          Lucasfilm|Truenorth Productions|Bad Robot   2015-12-15        5292   \n",
       "3  Universal Pictures|Original Film|Media Rights ...   2015-04-01        2947   \n",
       "4      Universal Pictures|Illumination Entertainment   2015-06-17        2893   \n",
       "5  Marvel Studios|Prime Focus|Revolution Sun Studios   2015-04-22        4304   \n",
       "\n",
       "   vote_average  release_year    budget_adj   revenue_adj  profit_earned  \n",
       "1           6.5          2015  1.379999e+08  1.392446e+09   1.254446e+09  \n",
       "2           7.5          2015  1.839999e+08  1.902723e+09   1.718723e+09  \n",
       "3           7.3          2015  1.747999e+08  1.385749e+09   1.210949e+09  \n",
       "4           6.5          2015  6.807997e+07  1.064192e+09   9.961120e+08  \n",
       "5           7.4          2015  2.575999e+08  1.292632e+09   1.035032e+09  "
      ]
     },
     "execution_count": 139,
     "metadata": {},
     "output_type": "execute_result"
    }
   ],
   "source": [
    "#selecting the movies having revenue 1 Billion or more\n",
    "revenue_data = df[df['revenue_adj'] >= 1000000000]\n",
    "\n",
    "#reindexing new data\n",
    "revenue_data.index = range(len(revenue_data))\n",
    "\n",
    "#we will start from 1 instead of 0\n",
    "revenue_data.index = revenue_data.index + 1\n",
    "\n",
    "#print out the new dataset\n",
    "revenue_data.head()"
   ]
  },
  {
   "cell_type": "code",
   "execution_count": 140,
   "metadata": {},
   "outputs": [
    {
     "data": {
      "text/plain": [
       "44"
      ]
     },
     "execution_count": 140,
     "metadata": {},
     "output_type": "execute_result"
    }
   ],
   "source": [
    "# counting no. of the rows in the new data base\n",
    "len(revenue_data)"
   ]
  },
  {
   "cell_type": "markdown",
   "metadata": {},
   "source": [
    "**Properties that are associated with movies that have high revenues (44 movies)**"
   ]
  },
  {
   "cell_type": "markdown",
   "metadata": {},
   "source": [
    "**Average popularity**"
   ]
  },
  {
   "cell_type": "code",
   "execution_count": 141,
   "metadata": {},
   "outputs": [
    {
     "data": {
      "text/plain": [
       "5.768757227272726"
      ]
     },
     "execution_count": 141,
     "metadata": {},
     "output_type": "execute_result"
    }
   ],
   "source": [
    "revenue_data['popularity'].mean()"
   ]
  },
  {
   "cell_type": "markdown",
   "metadata": {},
   "source": [
    "**Average budget**"
   ]
  },
  {
   "cell_type": "code",
   "execution_count": 142,
   "metadata": {},
   "outputs": [
    {
     "data": {
      "text/plain": [
       "133489129.50908175"
      ]
     },
     "execution_count": 142,
     "metadata": {},
     "output_type": "execute_result"
    }
   ],
   "source": [
    "revenue_data['budget_adj'].mean()"
   ]
  },
  {
   "cell_type": "markdown",
   "metadata": {},
   "source": [
    "**Average revenue**"
   ]
  },
  {
   "cell_type": "code",
   "execution_count": 143,
   "metadata": {},
   "outputs": [
    {
     "data": {
      "text/plain": [
       "1363139435.3753734"
      ]
     },
     "execution_count": 143,
     "metadata": {},
     "output_type": "execute_result"
    }
   ],
   "source": [
    "revenue_data['revenue_adj'].mean()"
   ]
  },
  {
   "cell_type": "markdown",
   "metadata": {},
   "source": [
    "**Most frequent cast**"
   ]
  },
  {
   "cell_type": "code",
   "execution_count": 144,
   "metadata": {},
   "outputs": [
    {
     "data": {
      "text/plain": [
       "Orlando Bloom       5\n",
       "Emma Watson         4\n",
       "Rupert Grint        4\n",
       "Daniel Radcliffe    4\n",
       "Harrison Ford       4\n",
       "dtype: int64"
      ]
     },
     "execution_count": 144,
     "metadata": {},
     "output_type": "execute_result"
    }
   ],
   "source": [
    "#will take a column, and separate the string by '|'\n",
    "df3 = revenue_data['cast'].str.cat(sep = '|')\n",
    "    \n",
    "#giving pandas series and storing the values separately\n",
    "df3 = pd.Series(df3.split('|'))\n",
    "    \n",
    "#arranging in descending order\n",
    "count = df3.value_counts(ascending = False)\n",
    "count.head()"
   ]
  },
  {
   "cell_type": "markdown",
   "metadata": {},
   "source": [
    "**Most frequent director**"
   ]
  },
  {
   "cell_type": "code",
   "execution_count": 145,
   "metadata": {},
   "outputs": [
    {
     "data": {
      "text/plain": [
       "Steven Spielberg       4\n",
       "Peter Jackson          3\n",
       "Wolfgang Reitherman    2\n",
       "Joss Whedon            2\n",
       "George Lucas           2\n",
       "dtype: int64"
      ]
     },
     "execution_count": 145,
     "metadata": {},
     "output_type": "execute_result"
    }
   ],
   "source": [
    "#will take a column, and separate the string by '|'\n",
    "df3 = revenue_data['director'].str.cat(sep = '|')\n",
    "    \n",
    "#giving pandas series and storing the values separately\n",
    "df3 = pd.Series(df3.split('|'))\n",
    "    \n",
    "#arranging in descending order\n",
    "count = df3.value_counts(ascending = False)\n",
    "count.head()"
   ]
  },
  {
   "cell_type": "markdown",
   "metadata": {},
   "source": [
    "**Average runtime**"
   ]
  },
  {
   "cell_type": "code",
   "execution_count": 146,
   "metadata": {},
   "outputs": [
    {
     "data": {
      "text/plain": [
       "136.1818181818182"
      ]
     },
     "execution_count": 146,
     "metadata": {},
     "output_type": "execute_result"
    }
   ],
   "source": [
    "revenue_data['runtime'].mean()"
   ]
  },
  {
   "cell_type": "markdown",
   "metadata": {},
   "source": [
    "**Most common genres**"
   ]
  },
  {
   "cell_type": "code",
   "execution_count": 147,
   "metadata": {},
   "outputs": [
    {
     "data": {
      "text/plain": [
       "Adventure          32\n",
       "Action             23\n",
       "Science Fiction    16\n",
       "Fantasy            15\n",
       "Family             15\n",
       "dtype: int64"
      ]
     },
     "execution_count": 147,
     "metadata": {},
     "output_type": "execute_result"
    }
   ],
   "source": [
    "#will take a column, and separate the string by '|'\n",
    "df3 = revenue_data['genres'].str.cat(sep = '|')\n",
    "    \n",
    "#giving pandas series and storing the values separately\n",
    "df3 = pd.Series(df3.split('|'))\n",
    "    \n",
    "#arranging in descending order\n",
    "count = df3.value_counts(ascending = False)\n",
    "count.head()"
   ]
  },
  {
   "cell_type": "markdown",
   "metadata": {},
   "source": [
    "**Most frequent production company**"
   ]
  },
  {
   "cell_type": "code",
   "execution_count": 148,
   "metadata": {},
   "outputs": [
    {
     "data": {
      "text/plain": [
       "Walt Disney Pictures                      8\n",
       "Warner Bros.                              8\n",
       "Twentieth Century Fox Film Corporation    6\n",
       "Lucasfilm                                 5\n",
       "Universal Pictures                        5\n",
       "dtype: int64"
      ]
     },
     "execution_count": 148,
     "metadata": {},
     "output_type": "execute_result"
    }
   ],
   "source": [
    "#will take a column, and separate the string by '|'\n",
    "df3 = revenue_data['production_companies'].str.cat(sep = '|')\n",
    "    \n",
    "#giving pandas series and storing the values separately\n",
    "df3 = pd.Series(df3.split('|'))\n",
    "    \n",
    "#arranging in descending order\n",
    "count = df3.value_counts(ascending = False)\n",
    "count.head()"
   ]
  },
  {
   "cell_type": "markdown",
   "metadata": {},
   "source": [
    "**Average vote count**"
   ]
  },
  {
   "cell_type": "code",
   "execution_count": 149,
   "metadata": {},
   "outputs": [
    {
     "data": {
      "text/plain": [
       "3653.2727272727275"
      ]
     },
     "execution_count": 149,
     "metadata": {},
     "output_type": "execute_result"
    }
   ],
   "source": [
    "revenue_data['vote_count'].mean()"
   ]
  },
  {
   "cell_type": "markdown",
   "metadata": {},
   "source": [
    "**Average vote average**"
   ]
  },
  {
   "cell_type": "code",
   "execution_count": 150,
   "metadata": {},
   "outputs": [
    {
     "data": {
      "text/plain": [
       "7.177272727272729"
      ]
     },
     "execution_count": 150,
     "metadata": {},
     "output_type": "execute_result"
    }
   ],
   "source": [
    "revenue_data['vote_average'].mean()"
   ]
  },
  {
   "cell_type": "markdown",
   "metadata": {},
   "source": [
    "**Most frequent release year**"
   ]
  },
  {
   "cell_type": "code",
   "execution_count": 151,
   "metadata": {},
   "outputs": [
    {
     "data": {
      "text/plain": [
       "2015    5\n",
       "2012    3\n",
       "2013    2\n",
       "2010    2\n",
       "2001    2\n",
       "Name: release_year, dtype: int64"
      ]
     },
     "execution_count": 151,
     "metadata": {},
     "output_type": "execute_result"
    }
   ],
   "source": [
    "revenue_data['release_year'].value_counts().head()"
   ]
  },
  {
   "cell_type": "markdown",
   "metadata": {},
   "source": [
    "<a id='conclusions'></a>\n",
    "## Conclusions\n",
    "> After this analysis we can conclude following:\n",
    ">\n",
    "> **properties of a high revenue movie :**\n",
    "> 1. Average popularity must be 5.768757227272726\n",
    "> 2. Average Budget must be 133,489,129.50908175\n",
    "> 3. Average revenue must be 1,363,139,435.3753734\n",
    "> 4. Average runtime must be 136.1818181818182\n",
    "> 5. Average vote count must be around 3653\n",
    "> 6. Average vote average must be 7.177272727272729\n",
    "> 7. Any one of these should be in the cast :Orlando Bloom, Emma Watson, Rupert Grint, Daniel Radcliffe, Harrison Ford\n",
    "> 8. Director should be one of : Steven Spielber,g Peter Jackson, Wolfgang Reitherman, Joss Whedon, George Lucas\n",
    "> 9. Genres must be : Adventure, Action, Science Fiction, Fantasy, Family\n",
    "> 10. The production company should be one of : Walt Disney Pictures, Warner Bros., Twentieth Century Fox Film Corporation, Lucasfilm, Universal Pictures\n",
    "> 11. The release year should be in : 2015, 2012, 2013, 2010, 2001\n",
    "\n",
    ">\n",
    "> By doing all this the movie might be one of the hits and hence can earn an average revenue of around 255 million  dollar.\n",
    ">\n",
    "### Limitations \n",
    "There is a lot of rows that do not have values or have missing values and dropping them will affect the results of the analysis. \n"
   ]
  },
  {
   "cell_type": "code",
   "execution_count": null,
   "metadata": {},
   "outputs": [],
   "source": []
  }
 ],
 "metadata": {
  "kernelspec": {
   "display_name": "Python 3",
   "language": "python",
   "name": "python3"
  },
  "language_info": {
   "codemirror_mode": {
    "name": "ipython",
    "version": 3
   },
   "file_extension": ".py",
   "mimetype": "text/x-python",
   "name": "python",
   "nbconvert_exporter": "python",
   "pygments_lexer": "ipython3",
   "version": "3.8.8"
  }
 },
 "nbformat": 4,
 "nbformat_minor": 2
}
